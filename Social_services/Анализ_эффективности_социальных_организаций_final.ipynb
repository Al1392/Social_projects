{
 "cells": [
  {
   "cell_type": "markdown",
   "metadata": {
    "ExecuteTime": {
     "end_time": "2023-09-12T08:49:57.134833Z",
     "start_time": "2023-09-12T08:49:51.084340Z"
    }
   },
   "source": [
    "# Исследование работы социальных организаций"
   ]
  },
  {
   "cell_type": "markdown",
   "metadata": {},
   "source": [
    "**Задача**\n",
    "\n",
    "Провести сравнительный анализ социальных организаций с целью выявления узких мест и потенциальных точек роста эффективности."
   ]
  },
  {
   "cell_type": "markdown",
   "metadata": {
    "ExecuteTime": {
     "end_time": "2023-09-14T11:45:13.245120Z",
     "start_time": "2023-09-14T11:45:13.183321Z"
    }
   },
   "source": [
    "**Описание данных**\n",
    "\n",
    "Таблица `Clients`:\n",
    "- `CLIENT_ID` — уникальный идентификатор клиента;\n",
    "- `SEX` — пол клиента;\n",
    "- `AGE` — возраст клиента.\n",
    "\n",
    "Таблица `Services`:\n",
    "- `SERVICE_ID` — уникальный идентификатор услуги;\n",
    "- `SERVICENAME` — наименование услуги;\n",
    "- `SERVICETIME` — дата предоставления услуги;\n",
    "- `CLIENT_ID` — уникальный идентификатор клиента.\n",
    "\n",
    "Таблица `Company_Rate`:\n",
    "- `COMPANY_NAME` — наименование организации;\n",
    "- `CLIENT_ID` — уникальный идентификатор клиента;\n",
    "- `RATE` — требуемая ставка доходности;\n",
    "\n",
    "Таблица `Service_x_costs`:\n",
    "- `SERVICE_ID` — уникальный идентификатор услуги;\n",
    "- `COSTS` — расходы на услуги;\n",
    "- `RATE` — требуемая ставка доходности;"
   ]
  },
  {
   "cell_type": "markdown",
   "metadata": {},
   "source": [
    "**План работы:**\n",
    "1. Обзор данных.\n",
    "2. Предобработка данных:\n",
    " - замена названий столбцов (при необходимости);\n",
    " - обработка пропусков (при необходимости);\n",
    " - изменение типа данных (при необходимости);\n",
    " - устранение дубликатов (при необходимости).\n",
    "3. Сравнительный анализ социальных организаций:\n",
    " - количество клиентов и предоставленных услуг;\n",
    " - сколько услуг в среднем получали клиенты;\n",
    " - в какие периоды предоставлено больше всего услуг;\n",
    " - услуги, которые пользовались наибольшим спросом;\n",
    " - размер выручки и прибыли; \n",
    " - средняя прибыль с клиента;\n",
    " - самые маржинальные услуги.\n",
    "4. Вывод."
   ]
  },
  {
   "cell_type": "code",
   "execution_count": 1,
   "metadata": {
    "ExecuteTime": {
     "end_time": "2023-09-19T10:12:21.851771Z",
     "start_time": "2023-09-19T10:12:16.606860Z"
    },
    "collapsed": true
   },
   "outputs": [],
   "source": [
    "#Импортируем библиотеки, которые понядобятся нам в работе\n",
    "import pandas as pd\n",
    "import seaborn as sns\n",
    "import matplotlib.pyplot as plt"
   ]
  },
  {
   "cell_type": "markdown",
   "metadata": {},
   "source": [
    "## Обзор данных"
   ]
  },
  {
   "cell_type": "code",
   "execution_count": 2,
   "metadata": {
    "ExecuteTime": {
     "end_time": "2023-09-19T10:12:21.987027Z",
     "start_time": "2023-09-19T10:12:21.855447Z"
    },
    "collapsed": true
   },
   "outputs": [],
   "source": [
    "# Прочитаем файлы\n",
    "clients = pd.read_csv('Clients.csv', sep = ';')\n",
    "services = pd.read_csv('Services.csv', sep = ';')\n",
    "service_costs = pd.read_csv('Service_x_costs.csv', sep = ';')\n",
    "company_rate = pd.read_csv('Company_Rate.csv', sep = ';')"
   ]
  },
  {
   "cell_type": "code",
   "execution_count": 3,
   "metadata": {
    "ExecuteTime": {
     "end_time": "2023-09-19T10:12:22.007078Z",
     "start_time": "2023-09-19T10:12:21.989915Z"
    },
    "collapsed": true
   },
   "outputs": [],
   "source": [
    "# Напишем функцию, чтобы вывести первые 5 строк \n",
    "def df_head(df, df1, df2, df3):\n",
    "    display(df.head())\n",
    "    display(df1.head())\n",
    "    display(df2.head())\n",
    "    display(df3.head())"
   ]
  },
  {
   "cell_type": "code",
   "execution_count": 4,
   "metadata": {
    "ExecuteTime": {
     "end_time": "2023-09-19T10:12:22.098277Z",
     "start_time": "2023-09-19T10:12:22.014099Z"
    }
   },
   "outputs": [
    {
     "data": {
      "text/html": [
       "<div>\n",
       "<style>\n",
       "    .dataframe thead tr:only-child th {\n",
       "        text-align: right;\n",
       "    }\n",
       "\n",
       "    .dataframe thead th {\n",
       "        text-align: left;\n",
       "    }\n",
       "\n",
       "    .dataframe tbody tr th {\n",
       "        vertical-align: top;\n",
       "    }\n",
       "</style>\n",
       "<table border=\"1\" class=\"dataframe\">\n",
       "  <thead>\n",
       "    <tr style=\"text-align: right;\">\n",
       "      <th></th>\n",
       "      <th>CLIENT_ID</th>\n",
       "      <th>SEX</th>\n",
       "      <th>AGE</th>\n",
       "    </tr>\n",
       "  </thead>\n",
       "  <tbody>\n",
       "    <tr>\n",
       "      <th>0</th>\n",
       "      <td>1</td>\n",
       "      <td>М</td>\n",
       "      <td>34</td>\n",
       "    </tr>\n",
       "    <tr>\n",
       "      <th>1</th>\n",
       "      <td>2</td>\n",
       "      <td>Ж</td>\n",
       "      <td>34</td>\n",
       "    </tr>\n",
       "    <tr>\n",
       "      <th>2</th>\n",
       "      <td>3</td>\n",
       "      <td>М</td>\n",
       "      <td>31</td>\n",
       "    </tr>\n",
       "    <tr>\n",
       "      <th>3</th>\n",
       "      <td>4</td>\n",
       "      <td>Ж</td>\n",
       "      <td>41</td>\n",
       "    </tr>\n",
       "    <tr>\n",
       "      <th>4</th>\n",
       "      <td>5</td>\n",
       "      <td>Ж</td>\n",
       "      <td>21</td>\n",
       "    </tr>\n",
       "  </tbody>\n",
       "</table>\n",
       "</div>"
      ],
      "text/plain": [
       "   CLIENT_ID SEX  AGE\n",
       "0          1   М   34\n",
       "1          2   Ж   34\n",
       "2          3   М   31\n",
       "3          4   Ж   41\n",
       "4          5   Ж   21"
      ]
     },
     "metadata": {},
     "output_type": "display_data"
    },
    {
     "data": {
      "text/html": [
       "<div>\n",
       "<style>\n",
       "    .dataframe thead tr:only-child th {\n",
       "        text-align: right;\n",
       "    }\n",
       "\n",
       "    .dataframe thead th {\n",
       "        text-align: left;\n",
       "    }\n",
       "\n",
       "    .dataframe tbody tr th {\n",
       "        vertical-align: top;\n",
       "    }\n",
       "</style>\n",
       "<table border=\"1\" class=\"dataframe\">\n",
       "  <thead>\n",
       "    <tr style=\"text-align: right;\">\n",
       "      <th></th>\n",
       "      <th>SERVICE_ID</th>\n",
       "      <th>SERVICENAME</th>\n",
       "      <th>SERVICETIME</th>\n",
       "      <th>CLIENT_ID</th>\n",
       "    </tr>\n",
       "  </thead>\n",
       "  <tbody>\n",
       "    <tr>\n",
       "      <th>0</th>\n",
       "      <td>2</td>\n",
       "      <td>Социально-правовые</td>\n",
       "      <td>29.10.2022</td>\n",
       "      <td>1885.0</td>\n",
       "    </tr>\n",
       "    <tr>\n",
       "      <th>1</th>\n",
       "      <td>2</td>\n",
       "      <td>Социально-правовые</td>\n",
       "      <td>25.03.2022</td>\n",
       "      <td>1967.0</td>\n",
       "    </tr>\n",
       "    <tr>\n",
       "      <th>2</th>\n",
       "      <td>2</td>\n",
       "      <td>Социально-правовые</td>\n",
       "      <td>25.02.2022</td>\n",
       "      <td>1885.0</td>\n",
       "    </tr>\n",
       "    <tr>\n",
       "      <th>3</th>\n",
       "      <td>2</td>\n",
       "      <td>Социально-правовые</td>\n",
       "      <td>03.10.2022</td>\n",
       "      <td>1885.0</td>\n",
       "    </tr>\n",
       "    <tr>\n",
       "      <th>4</th>\n",
       "      <td>2</td>\n",
       "      <td>Социально-правовые</td>\n",
       "      <td>27.10.2022</td>\n",
       "      <td>1885.0</td>\n",
       "    </tr>\n",
       "  </tbody>\n",
       "</table>\n",
       "</div>"
      ],
      "text/plain": [
       "   SERVICE_ID         SERVICENAME SERVICETIME  CLIENT_ID\n",
       "0           2  Социально-правовые  29.10.2022     1885.0\n",
       "1           2  Социально-правовые  25.03.2022     1967.0\n",
       "2           2  Социально-правовые  25.02.2022     1885.0\n",
       "3           2  Социально-правовые  03.10.2022     1885.0\n",
       "4           2  Социально-правовые  27.10.2022     1885.0"
      ]
     },
     "metadata": {},
     "output_type": "display_data"
    },
    {
     "data": {
      "text/html": [
       "<div>\n",
       "<style>\n",
       "    .dataframe thead tr:only-child th {\n",
       "        text-align: right;\n",
       "    }\n",
       "\n",
       "    .dataframe thead th {\n",
       "        text-align: left;\n",
       "    }\n",
       "\n",
       "    .dataframe tbody tr th {\n",
       "        vertical-align: top;\n",
       "    }\n",
       "</style>\n",
       "<table border=\"1\" class=\"dataframe\">\n",
       "  <thead>\n",
       "    <tr style=\"text-align: right;\">\n",
       "      <th></th>\n",
       "      <th>SERVICE_ID</th>\n",
       "      <th>COSTS</th>\n",
       "    </tr>\n",
       "  </thead>\n",
       "  <tbody>\n",
       "    <tr>\n",
       "      <th>0</th>\n",
       "      <td>1</td>\n",
       "      <td>656.64</td>\n",
       "    </tr>\n",
       "    <tr>\n",
       "      <th>1</th>\n",
       "      <td>2</td>\n",
       "      <td>771.55</td>\n",
       "    </tr>\n",
       "    <tr>\n",
       "      <th>2</th>\n",
       "      <td>3</td>\n",
       "      <td>614.90</td>\n",
       "    </tr>\n",
       "    <tr>\n",
       "      <th>3</th>\n",
       "      <td>4</td>\n",
       "      <td>1410.27</td>\n",
       "    </tr>\n",
       "    <tr>\n",
       "      <th>4</th>\n",
       "      <td>5</td>\n",
       "      <td>1023.03</td>\n",
       "    </tr>\n",
       "  </tbody>\n",
       "</table>\n",
       "</div>"
      ],
      "text/plain": [
       "   SERVICE_ID    COSTS\n",
       "0           1   656.64\n",
       "1           2   771.55\n",
       "2           3   614.90\n",
       "3           4  1410.27\n",
       "4           5  1023.03"
      ]
     },
     "metadata": {},
     "output_type": "display_data"
    },
    {
     "data": {
      "text/html": [
       "<div>\n",
       "<style>\n",
       "    .dataframe thead tr:only-child th {\n",
       "        text-align: right;\n",
       "    }\n",
       "\n",
       "    .dataframe thead th {\n",
       "        text-align: left;\n",
       "    }\n",
       "\n",
       "    .dataframe tbody tr th {\n",
       "        vertical-align: top;\n",
       "    }\n",
       "</style>\n",
       "<table border=\"1\" class=\"dataframe\">\n",
       "  <thead>\n",
       "    <tr style=\"text-align: right;\">\n",
       "      <th></th>\n",
       "      <th>COMPANY_NAME</th>\n",
       "      <th>CLIENT_ID</th>\n",
       "      <th>RATE</th>\n",
       "    </tr>\n",
       "  </thead>\n",
       "  <tbody>\n",
       "    <tr>\n",
       "      <th>0</th>\n",
       "      <td>Социальная организация №6</td>\n",
       "      <td>1</td>\n",
       "      <td>1,25</td>\n",
       "    </tr>\n",
       "    <tr>\n",
       "      <th>1</th>\n",
       "      <td>Социальная организация №2</td>\n",
       "      <td>2</td>\n",
       "      <td>1,25</td>\n",
       "    </tr>\n",
       "    <tr>\n",
       "      <th>2</th>\n",
       "      <td>Социальная организация №5</td>\n",
       "      <td>3</td>\n",
       "      <td>1,3</td>\n",
       "    </tr>\n",
       "    <tr>\n",
       "      <th>3</th>\n",
       "      <td>Социальная организация №1</td>\n",
       "      <td>4</td>\n",
       "      <td>1,2</td>\n",
       "    </tr>\n",
       "    <tr>\n",
       "      <th>4</th>\n",
       "      <td>Социальная организация №5</td>\n",
       "      <td>5</td>\n",
       "      <td>1,3</td>\n",
       "    </tr>\n",
       "  </tbody>\n",
       "</table>\n",
       "</div>"
      ],
      "text/plain": [
       "                COMPANY_NAME  CLIENT_ID  RATE\n",
       "0  Социальная организация №6          1  1,25\n",
       "1  Социальная организация №2          2  1,25\n",
       "2  Социальная организация №5          3   1,3\n",
       "3  Социальная организация №1          4   1,2\n",
       "4  Социальная организация №5          5   1,3"
      ]
     },
     "metadata": {},
     "output_type": "display_data"
    }
   ],
   "source": [
    "# Посмотрим первые 5 строк каждого датасета\n",
    "df_head(clients, services, service_costs, company_rate)"
   ]
  },
  {
   "cell_type": "code",
   "execution_count": 5,
   "metadata": {
    "ExecuteTime": {
     "end_time": "2023-09-19T10:12:22.115879Z",
     "start_time": "2023-09-19T10:12:22.103272Z"
    },
    "collapsed": true
   },
   "outputs": [],
   "source": [
    "# Напишем функцию, чтобы вывести общую информацию о датасетах\n",
    "def df_info(df, df1, df2, df3):\n",
    "    display(df.info())\n",
    "    display(df1.info())\n",
    "    display(df2.info())\n",
    "    display(df3.info())"
   ]
  },
  {
   "cell_type": "code",
   "execution_count": 6,
   "metadata": {
    "ExecuteTime": {
     "end_time": "2023-09-19T10:12:22.199426Z",
     "start_time": "2023-09-19T10:12:22.120557Z"
    }
   },
   "outputs": [
    {
     "name": "stdout",
     "output_type": "stream",
     "text": [
      "<class 'pandas.core.frame.DataFrame'>\n",
      "RangeIndex: 2371 entries, 0 to 2370\n",
      "Data columns (total 3 columns):\n",
      "CLIENT_ID    2371 non-null int64\n",
      "SEX          2371 non-null object\n",
      "AGE          2371 non-null int64\n",
      "dtypes: int64(2), object(1)\n",
      "memory usage: 55.6+ KB\n"
     ]
    },
    {
     "data": {
      "text/plain": [
       "None"
      ]
     },
     "metadata": {},
     "output_type": "display_data"
    },
    {
     "name": "stdout",
     "output_type": "stream",
     "text": [
      "<class 'pandas.core.frame.DataFrame'>\n",
      "RangeIndex: 30672 entries, 0 to 30671\n",
      "Data columns (total 4 columns):\n",
      "SERVICE_ID     30672 non-null int64\n",
      "SERVICENAME    30672 non-null object\n",
      "SERVICETIME    30535 non-null object\n",
      "CLIENT_ID      30602 non-null float64\n",
      "dtypes: float64(1), int64(1), object(2)\n",
      "memory usage: 958.6+ KB\n"
     ]
    },
    {
     "data": {
      "text/plain": [
       "None"
      ]
     },
     "metadata": {},
     "output_type": "display_data"
    },
    {
     "name": "stdout",
     "output_type": "stream",
     "text": [
      "<class 'pandas.core.frame.DataFrame'>\n",
      "RangeIndex: 5 entries, 0 to 4\n",
      "Data columns (total 2 columns):\n",
      "SERVICE_ID    5 non-null int64\n",
      "COSTS         5 non-null float64\n",
      "dtypes: float64(1), int64(1)\n",
      "memory usage: 160.0 bytes\n"
     ]
    },
    {
     "data": {
      "text/plain": [
       "None"
      ]
     },
     "metadata": {},
     "output_type": "display_data"
    },
    {
     "name": "stdout",
     "output_type": "stream",
     "text": [
      "<class 'pandas.core.frame.DataFrame'>\n",
      "RangeIndex: 2371 entries, 0 to 2370\n",
      "Data columns (total 3 columns):\n",
      "COMPANY_NAME    2371 non-null object\n",
      "CLIENT_ID       2371 non-null int64\n",
      "RATE            2371 non-null object\n",
      "dtypes: int64(1), object(2)\n",
      "memory usage: 55.6+ KB\n"
     ]
    },
    {
     "data": {
      "text/plain": [
       "None"
      ]
     },
     "metadata": {},
     "output_type": "display_data"
    }
   ],
   "source": [
    "# Посмотрим общую информацию о датасетах\n",
    "df_info(clients, services, service_costs, company_rate)"
   ]
  },
  {
   "cell_type": "markdown",
   "metadata": {},
   "source": [
    "### Краткий вывод\n",
    "- В таблицах `clients`, `services`, `service_costs`, `company_rate` нужно привести названия колонок к нижнему регистру и snake_case\n",
    "- В таблице `services` колонки `SERVICETIME` нужно привести к типу данных datetime, `CLIENT_ID` к int. Также нужно обработать пропуски данных.\n",
    "- В таблице `service_costs` колонку `COSTS` нужно привести к типу данных float.\n",
    "- В таблице `company_rate` колонку `RATE` нужно привести к типу данных float."
   ]
  },
  {
   "cell_type": "markdown",
   "metadata": {
    "ExecuteTime": {
     "end_time": "2023-09-12T09:14:39.214675Z",
     "start_time": "2023-09-12T09:14:39.200105Z"
    }
   },
   "source": [
    "## Предобработка данных"
   ]
  },
  {
   "cell_type": "markdown",
   "metadata": {
    "ExecuteTime": {
     "end_time": "2023-09-12T09:15:24.432348Z",
     "start_time": "2023-09-12T09:15:24.423351Z"
    }
   },
   "source": [
    "### Замена названий столбцов"
   ]
  },
  {
   "cell_type": "code",
   "execution_count": 7,
   "metadata": {
    "ExecuteTime": {
     "end_time": "2023-09-19T10:12:22.258950Z",
     "start_time": "2023-09-19T10:12:22.217083Z"
    },
    "collapsed": true
   },
   "outputs": [],
   "source": [
    "# Приведем названия столбцов к нижнему регистру и snake_case\n",
    "clients.columns = [x.lower() for x in clients.columns]\n",
    "services.columns = [x.lower().replace('name','_name').replace('time','_time') for x in services.columns]\n",
    "service_costs.columns = [x.lower() for x in service_costs.columns]\n",
    "company_rate.columns = [x.lower() for x in company_rate.columns]"
   ]
  },
  {
   "cell_type": "markdown",
   "metadata": {},
   "source": [
    "### Обработка пропусков в данных"
   ]
  },
  {
   "cell_type": "code",
   "execution_count": 8,
   "metadata": {
    "ExecuteTime": {
     "end_time": "2023-09-19T10:12:22.323369Z",
     "start_time": "2023-09-19T10:12:22.267062Z"
    }
   },
   "outputs": [
    {
     "data": {
      "text/plain": [
       "service_time    137\n",
       "client_id        70\n",
       "service_name      0\n",
       "service_id        0\n",
       "dtype: int64"
      ]
     },
     "metadata": {},
     "output_type": "display_data"
    },
    {
     "name": "stdout",
     "output_type": "stream",
     "text": [
      "Общее количество строк: 30672\n",
      "Общее кол-во непересекающихся пропусков: 203\n",
      "Общее количество пересечений в пропусках: 4\n"
     ]
    }
   ],
   "source": [
    "# Посмотрим кол-во пропусков в датасете services\n",
    "display(services.isnull().sum().sort_values(ascending = False))\n",
    "\n",
    "# Посмотрим кол-во строк в датасете services\n",
    "print(f'Общее количество строк: {len(services)}')\n",
    "\n",
    "# Посмотрим кол-во непересекающихся пропусков в датасете services\n",
    "print(f'Общее кол-во непересекающихся пропусков: \\\n",
    "{len(services.loc[(services[\"service_time\"].isnull()) | (services[\"client_id\"].isnull())])}')\n",
    "\n",
    "# Посмотрим кол-во строк в датасете services, в которых пересекаются пропуски\n",
    "print(f'Общее количество пересечений в пропусках: \\\n",
    "{len(services.loc[(services[\"service_time\"].isnull()) & (services[\"client_id\"].isnull())])}')"
   ]
  },
  {
   "cell_type": "markdown",
   "metadata": {
    "ExecuteTime": {
     "end_time": "2023-09-12T09:33:02.855998Z",
     "start_time": "2023-09-12T09:33:02.833878Z"
    }
   },
   "source": [
    "**Поскольку пропусков относительно мало и мы не можем заменить их на подходящие значения, поэтому мы избавимся от них.**"
   ]
  },
  {
   "cell_type": "code",
   "execution_count": 9,
   "metadata": {
    "ExecuteTime": {
     "end_time": "2023-09-19T10:12:22.382228Z",
     "start_time": "2023-09-19T10:12:22.329172Z"
    }
   },
   "outputs": [
    {
     "data": {
      "text/plain": [
       "service_id      0\n",
       "service_name    0\n",
       "service_time    0\n",
       "client_id       0\n",
       "dtype: int64"
      ]
     },
     "metadata": {},
     "output_type": "display_data"
    },
    {
     "name": "stdout",
     "output_type": "stream",
     "text": [
      "Общее количество строк после фильтрации: 30469\n"
     ]
    }
   ],
   "source": [
    "# Отфильтруем датасет services\n",
    "services = services.loc[~(services['service_time'].isnull()) & ~(services['client_id'].isnull())]\n",
    "\n",
    "# Проверим результат\n",
    "display(services.isnull().sum())\n",
    "\n",
    "# Посмотрим кол-во строк в датасете services\n",
    "print(f'Общее количество строк после фильтрации: {len(services)}')"
   ]
  },
  {
   "cell_type": "markdown",
   "metadata": {},
   "source": [
    "### Изменение типа данных"
   ]
  },
  {
   "cell_type": "code",
   "execution_count": 10,
   "metadata": {
    "ExecuteTime": {
     "end_time": "2023-09-19T10:12:28.412639Z",
     "start_time": "2023-09-19T10:12:22.390500Z"
    },
    "collapsed": true
   },
   "outputs": [],
   "source": [
    "# Для корректной работы функции to_numeric, мы заменим ',' на '.'\n",
    "company_rate['rate'] = company_rate['rate'].str.replace(',','.')\n",
    "\n",
    "# Приведем колонки датасетов к нужным типам данных\n",
    "services['service_time'] = pd.to_datetime(services['service_time'])\n",
    "services['client_id'] = services['client_id'].astype(int)\n",
    "service_costs['costs'] = pd.to_numeric(service_costs['costs'])\n",
    "company_rate['rate'] = pd.to_numeric(company_rate['rate'])"
   ]
  },
  {
   "cell_type": "markdown",
   "metadata": {},
   "source": [
    "### Поиск дубликатов"
   ]
  },
  {
   "cell_type": "code",
   "execution_count": 11,
   "metadata": {
    "ExecuteTime": {
     "end_time": "2023-09-19T10:12:28.455016Z",
     "start_time": "2023-09-19T10:12:28.415908Z"
    }
   },
   "outputs": [
    {
     "name": "stdout",
     "output_type": "stream",
     "text": [
      "Общее количество дубликатов в датасете clients: 0\n",
      "Общее количество дубликатов в датасете services: 149\n",
      "Общее количество дубликатов в датасете service_costs: 0\n",
      "Общее количество дубликатов в датасете company_rate: 0\n"
     ]
    }
   ],
   "source": [
    "# Напишем фукнцию, которая будет находить дубликаты\n",
    "def find_dup(df, df1, df2, df3):\n",
    "    print(f'Общее количество дубликатов в датасете clients: {df.duplicated().sum()}')\n",
    "    print(f'Общее количество дубликатов в датасете services: {df1.duplicated().sum()}')\n",
    "    print(f'Общее количество дубликатов в датасете service_costs: {df2.duplicated().sum()}')\n",
    "    print(f'Общее количество дубликатов в датасете company_rate: {df3.duplicated().sum()}')\n",
    "\n",
    "# Посмотрим в каких датасетах у нас есть дубликаты\n",
    "find_dup(clients, services, service_costs, company_rate)"
   ]
  },
  {
   "cell_type": "code",
   "execution_count": 12,
   "metadata": {
    "ExecuteTime": {
     "end_time": "2023-09-19T10:12:28.497357Z",
     "start_time": "2023-09-19T10:12:28.460175Z"
    }
   },
   "outputs": [
    {
     "name": "stdout",
     "output_type": "stream",
     "text": [
      "Общее количество дубликатов после очистки: 0\n"
     ]
    }
   ],
   "source": [
    "# Удалим дубликаты\n",
    "services = services.drop_duplicates()\n",
    "\n",
    "# Проверим результат\n",
    "print(f'Общее количество дубликатов после очистки: {services.duplicated().sum()}')"
   ]
  },
  {
   "cell_type": "markdown",
   "metadata": {},
   "source": [
    "**Явные дубликаты отсутствуют**"
   ]
  },
  {
   "cell_type": "code",
   "execution_count": 13,
   "metadata": {
    "ExecuteTime": {
     "end_time": "2023-09-19T10:12:28.512503Z",
     "start_time": "2023-09-19T10:12:28.501587Z"
    }
   },
   "outputs": [
    {
     "data": {
      "text/plain": [
       "array(['Социальная организация №6', 'Социальная организация №2',\n",
       "       'Социальная организация №5', 'Социальная организация №1',\n",
       "       'Социальная организация №3', 'Социальная организация №4',\n",
       "       'Социальное учреждение N6', 'Социальное учреждение 3',\n",
       "       'Соц организация 3', 'Соц организация 2',\n",
       "       'Социальная организация 2', 'Соц организация №1',\n",
       "       'Социальное учреждение №5'], dtype=object)"
      ]
     },
     "execution_count": 13,
     "metadata": {},
     "output_type": "execute_result"
    }
   ],
   "source": [
    "# Проверим неявные дубликаты\n",
    "company_rate['company_name'].unique()"
   ]
  },
  {
   "cell_type": "code",
   "execution_count": 14,
   "metadata": {
    "ExecuteTime": {
     "end_time": "2023-09-19T10:12:28.546755Z",
     "start_time": "2023-09-19T10:12:28.516935Z"
    }
   },
   "outputs": [
    {
     "data": {
      "text/plain": [
       "array(['Социальная организация №6', 'Социальная организация №2',\n",
       "       'Социальная организация №5', 'Социальная организация №1',\n",
       "       'Социальная организация №3', 'Социальная организация №4'],\n",
       "      dtype=object)"
      ]
     },
     "execution_count": 14,
     "metadata": {},
     "output_type": "execute_result"
    }
   ],
   "source": [
    "#Напишем функцию, которая устранит неявные дубликаты\n",
    "change_names = {'Соц организация №1':'Социальная организация №1',\\\n",
    "                'Социальная организация 2':'Социальная организация №2',\\\n",
    "                'Соц организация 2':'Социальная организация №2',\\\n",
    "                'Социальное учреждение 3':'Социальная организация №3',\\\n",
    "                'Соц организация 3':'Социальная организация №3',\\\n",
    "                 'Социальное учреждение №5':'Социальная организация №5',\\\n",
    "                'Социальное учреждение N6':'Социальная организация №6'}\n",
    "\n",
    "def company_name(df, change_names):\n",
    "        for name, change_value in change_names.items():\n",
    "            if name in df:\n",
    "                df = str(df).replace(name, change_value)\n",
    "        return df\n",
    "    \n",
    "company_rate['company_name'] = company_rate['company_name'].apply(lambda x: company_name(x, change_names))\n",
    "\n",
    "# Проверим изменения\n",
    "company_rate['company_name'].unique()"
   ]
  },
  {
   "cell_type": "code",
   "execution_count": 15,
   "metadata": {
    "ExecuteTime": {
     "end_time": "2023-09-19T10:12:28.599414Z",
     "start_time": "2023-09-19T10:12:28.552036Z"
    }
   },
   "outputs": [
    {
     "name": "stdout",
     "output_type": "stream",
     "text": [
      "<class 'pandas.core.frame.DataFrame'>\n",
      "RangeIndex: 2371 entries, 0 to 2370\n",
      "Data columns (total 3 columns):\n",
      "client_id    2371 non-null int64\n",
      "sex          2371 non-null object\n",
      "age          2371 non-null int64\n",
      "dtypes: int64(2), object(1)\n",
      "memory usage: 55.6+ KB\n"
     ]
    },
    {
     "data": {
      "text/plain": [
       "None"
      ]
     },
     "metadata": {},
     "output_type": "display_data"
    },
    {
     "name": "stdout",
     "output_type": "stream",
     "text": [
      "<class 'pandas.core.frame.DataFrame'>\n",
      "Int64Index: 30320 entries, 0 to 30670\n",
      "Data columns (total 4 columns):\n",
      "service_id      30320 non-null int64\n",
      "service_name    30320 non-null object\n",
      "service_time    30320 non-null datetime64[ns]\n",
      "client_id       30320 non-null int64\n",
      "dtypes: datetime64[ns](1), int64(2), object(1)\n",
      "memory usage: 1.2+ MB\n"
     ]
    },
    {
     "data": {
      "text/plain": [
       "None"
      ]
     },
     "metadata": {},
     "output_type": "display_data"
    },
    {
     "name": "stdout",
     "output_type": "stream",
     "text": [
      "<class 'pandas.core.frame.DataFrame'>\n",
      "RangeIndex: 5 entries, 0 to 4\n",
      "Data columns (total 2 columns):\n",
      "service_id    5 non-null int64\n",
      "costs         5 non-null float64\n",
      "dtypes: float64(1), int64(1)\n",
      "memory usage: 160.0 bytes\n"
     ]
    },
    {
     "data": {
      "text/plain": [
       "None"
      ]
     },
     "metadata": {},
     "output_type": "display_data"
    },
    {
     "name": "stdout",
     "output_type": "stream",
     "text": [
      "<class 'pandas.core.frame.DataFrame'>\n",
      "RangeIndex: 2371 entries, 0 to 2370\n",
      "Data columns (total 3 columns):\n",
      "company_name    2371 non-null object\n",
      "client_id       2371 non-null int64\n",
      "rate            2371 non-null float64\n",
      "dtypes: float64(1), int64(1), object(1)\n",
      "memory usage: 55.6+ KB\n"
     ]
    },
    {
     "data": {
      "text/plain": [
       "None"
      ]
     },
     "metadata": {},
     "output_type": "display_data"
    }
   ],
   "source": [
    "# Проверим сделанные изменения\n",
    "df_info(clients, services, service_costs, company_rate)"
   ]
  },
  {
   "cell_type": "markdown",
   "metadata": {},
   "source": [
    "### Краткий вывод\n",
    "- Названия столбцов в таблицах `clients`, `services`, `service_costs`, `company_rate` приведены к нижнему регистру и snake_case.\n",
    "- Обработаны пропуски данных в таблице `services`.\n",
    "- Изменены типы данных в колонках `service_time`, `client_id`, `costs`, `rate`.\n",
    "- Устранены явные дубликаты в таблице `services` и неявные дубликаты в таблице `company_rate` - колонка `company_name`."
   ]
  },
  {
   "cell_type": "markdown",
   "metadata": {
    "ExecuteTime": {
     "end_time": "2023-09-12T10:51:35.500246Z",
     "start_time": "2023-09-12T10:51:35.478206Z"
    }
   },
   "source": [
    "## Сравнительный анализ социальных организаций"
   ]
  },
  {
   "cell_type": "code",
   "execution_count": 16,
   "metadata": {
    "ExecuteTime": {
     "end_time": "2023-09-19T10:12:28.616208Z",
     "start_time": "2023-09-19T10:12:28.604721Z"
    }
   },
   "outputs": [
    {
     "name": "stdout",
     "output_type": "stream",
     "text": [
      "Данные представлены за период с 2022-01-02 00:00:00 по 2022-12-31 00:00:00.\n"
     ]
    }
   ],
   "source": [
    "# Проверим за какой период у нас есть данные\n",
    "print(f'Данные представлены за период с {services[\"service_time\"].min()} по {services[\"service_time\"].max()}.')"
   ]
  },
  {
   "cell_type": "markdown",
   "metadata": {
    "ExecuteTime": {
     "end_time": "2023-09-12T11:33:00.740825Z",
     "start_time": "2023-09-12T11:33:00.715703Z"
    }
   },
   "source": [
    "**В 2022 году, социальные организации работали с 5 января.**"
   ]
  },
  {
   "cell_type": "code",
   "execution_count": 17,
   "metadata": {
    "ExecuteTime": {
     "end_time": "2023-09-19T10:12:28.637716Z",
     "start_time": "2023-09-19T10:12:28.621073Z"
    }
   },
   "outputs": [
    {
     "name": "stdout",
     "output_type": "stream",
     "text": [
      "Общее количество оказанных услуг в 2022 году: 30320\n",
      "Общее количество оказанных услуг до 5 января 2022 года: 276\n"
     ]
    }
   ],
   "source": [
    "# Посмотрим кол-во оказанных услуг в 2022 году.\n",
    "print(f'Общее количество оказанных услуг в 2022 году: {len(services)}')\n",
    "\n",
    "# Посмотрим кол-во оказанных услуг до 5 января 2022\n",
    "print(f'Общее количество оказанных услуг до 5 января 2022 года: \\\n",
    "{len(services.loc[services[\"service_time\"] < \"2022-01-05 00:00:00\"])}')"
   ]
  },
  {
   "cell_type": "code",
   "execution_count": 18,
   "metadata": {
    "ExecuteTime": {
     "end_time": "2023-09-19T10:12:28.914207Z",
     "start_time": "2023-09-19T10:12:28.643498Z"
    }
   },
   "outputs": [
    {
     "name": "stdout",
     "output_type": "stream",
     "text": [
      "Общее количество оказанных услуг с 5 января 2022 года: 30044\n"
     ]
    },
    {
     "data": {
      "text/html": [
       "<div>\n",
       "<style>\n",
       "    .dataframe thead tr:only-child th {\n",
       "        text-align: right;\n",
       "    }\n",
       "\n",
       "    .dataframe thead th {\n",
       "        text-align: left;\n",
       "    }\n",
       "\n",
       "    .dataframe tbody tr th {\n",
       "        vertical-align: top;\n",
       "    }\n",
       "</style>\n",
       "<table border=\"1\" class=\"dataframe\">\n",
       "  <thead>\n",
       "    <tr style=\"text-align: right;\">\n",
       "      <th></th>\n",
       "      <th>service_id</th>\n",
       "      <th>service_name</th>\n",
       "      <th>service_time</th>\n",
       "      <th>client_id</th>\n",
       "      <th>dt</th>\n",
       "      <th>month</th>\n",
       "      <th>week</th>\n",
       "    </tr>\n",
       "  </thead>\n",
       "  <tbody>\n",
       "    <tr>\n",
       "      <th>0</th>\n",
       "      <td>2</td>\n",
       "      <td>Социально-правовые</td>\n",
       "      <td>2022-10-29</td>\n",
       "      <td>1885</td>\n",
       "      <td>2022-10-29</td>\n",
       "      <td>2022-10-01</td>\n",
       "      <td>43</td>\n",
       "    </tr>\n",
       "    <tr>\n",
       "      <th>1</th>\n",
       "      <td>2</td>\n",
       "      <td>Социально-правовые</td>\n",
       "      <td>2022-03-25</td>\n",
       "      <td>1967</td>\n",
       "      <td>2022-03-25</td>\n",
       "      <td>2022-03-01</td>\n",
       "      <td>12</td>\n",
       "    </tr>\n",
       "    <tr>\n",
       "      <th>2</th>\n",
       "      <td>2</td>\n",
       "      <td>Социально-правовые</td>\n",
       "      <td>2022-02-25</td>\n",
       "      <td>1885</td>\n",
       "      <td>2022-02-25</td>\n",
       "      <td>2022-02-01</td>\n",
       "      <td>8</td>\n",
       "    </tr>\n",
       "    <tr>\n",
       "      <th>3</th>\n",
       "      <td>2</td>\n",
       "      <td>Социально-правовые</td>\n",
       "      <td>2022-03-10</td>\n",
       "      <td>1885</td>\n",
       "      <td>2022-03-10</td>\n",
       "      <td>2022-03-01</td>\n",
       "      <td>10</td>\n",
       "    </tr>\n",
       "    <tr>\n",
       "      <th>4</th>\n",
       "      <td>2</td>\n",
       "      <td>Социально-правовые</td>\n",
       "      <td>2022-10-27</td>\n",
       "      <td>1885</td>\n",
       "      <td>2022-10-27</td>\n",
       "      <td>2022-10-01</td>\n",
       "      <td>43</td>\n",
       "    </tr>\n",
       "  </tbody>\n",
       "</table>\n",
       "</div>"
      ],
      "text/plain": [
       "   service_id        service_name service_time  client_id          dt  \\\n",
       "0           2  Социально-правовые   2022-10-29       1885  2022-10-29   \n",
       "1           2  Социально-правовые   2022-03-25       1967  2022-03-25   \n",
       "2           2  Социально-правовые   2022-02-25       1885  2022-02-25   \n",
       "3           2  Социально-правовые   2022-03-10       1885  2022-03-10   \n",
       "4           2  Социально-правовые   2022-10-27       1885  2022-10-27   \n",
       "\n",
       "       month  week  \n",
       "0 2022-10-01    43  \n",
       "1 2022-03-01    12  \n",
       "2 2022-02-01     8  \n",
       "3 2022-03-01    10  \n",
       "4 2022-10-01    43  "
      ]
     },
     "execution_count": 18,
     "metadata": {},
     "output_type": "execute_result"
    }
   ],
   "source": [
    "# Отфильтруем данные\n",
    "services = services.loc[services['service_time']>= '2022-01-05 00:00:00']\n",
    "\n",
    "# Для удобства, добавим колонку с датой и месяцем\n",
    "services['dt'] = services['service_time'].dt.date\n",
    "services['month'] = services['dt'].astype('datetime64[M]')\n",
    "services['week'] = services['service_time'].dt.week\n",
    "\n",
    "# Выведем количество оказанных услуг\n",
    "print(f'Общее количество оказанных услуг с 5 января 2022 года: {len(services)}')\n",
    "\n",
    "# Проверим результат\n",
    "services.head()"
   ]
  },
  {
   "cell_type": "markdown",
   "metadata": {},
   "source": [
    "**Соберем все данные в рамках одного датасета**"
   ]
  },
  {
   "cell_type": "code",
   "execution_count": 19,
   "metadata": {
    "ExecuteTime": {
     "end_time": "2023-09-19T10:12:29.008253Z",
     "start_time": "2023-09-19T10:12:28.919653Z"
    }
   },
   "outputs": [
    {
     "name": "stdout",
     "output_type": "stream",
     "text": [
      "Общее количество оказанных услуг с 5 января 2022 года в итоговой таблице: 30044\n"
     ]
    },
    {
     "data": {
      "text/html": [
       "<div>\n",
       "<style>\n",
       "    .dataframe thead tr:only-child th {\n",
       "        text-align: right;\n",
       "    }\n",
       "\n",
       "    .dataframe thead th {\n",
       "        text-align: left;\n",
       "    }\n",
       "\n",
       "    .dataframe tbody tr th {\n",
       "        vertical-align: top;\n",
       "    }\n",
       "</style>\n",
       "<table border=\"1\" class=\"dataframe\">\n",
       "  <thead>\n",
       "    <tr style=\"text-align: right;\">\n",
       "      <th></th>\n",
       "      <th>service_id</th>\n",
       "      <th>service_name</th>\n",
       "      <th>service_time</th>\n",
       "      <th>client_id</th>\n",
       "      <th>dt</th>\n",
       "      <th>month</th>\n",
       "      <th>week</th>\n",
       "      <th>costs</th>\n",
       "      <th>sex</th>\n",
       "      <th>age</th>\n",
       "      <th>company_name</th>\n",
       "      <th>rate</th>\n",
       "    </tr>\n",
       "  </thead>\n",
       "  <tbody>\n",
       "    <tr>\n",
       "      <th>0</th>\n",
       "      <td>2</td>\n",
       "      <td>Социально-правовые</td>\n",
       "      <td>2022-10-29</td>\n",
       "      <td>1885</td>\n",
       "      <td>2022-10-29</td>\n",
       "      <td>2022-10-01</td>\n",
       "      <td>43</td>\n",
       "      <td>771.55</td>\n",
       "      <td>Ж</td>\n",
       "      <td>20</td>\n",
       "      <td>Социальная организация №4</td>\n",
       "      <td>1.30</td>\n",
       "    </tr>\n",
       "    <tr>\n",
       "      <th>1</th>\n",
       "      <td>2</td>\n",
       "      <td>Социально-правовые</td>\n",
       "      <td>2022-03-25</td>\n",
       "      <td>1967</td>\n",
       "      <td>2022-03-25</td>\n",
       "      <td>2022-03-01</td>\n",
       "      <td>12</td>\n",
       "      <td>771.55</td>\n",
       "      <td>М</td>\n",
       "      <td>56</td>\n",
       "      <td>Социальная организация №6</td>\n",
       "      <td>1.25</td>\n",
       "    </tr>\n",
       "    <tr>\n",
       "      <th>2</th>\n",
       "      <td>2</td>\n",
       "      <td>Социально-правовые</td>\n",
       "      <td>2022-02-25</td>\n",
       "      <td>1885</td>\n",
       "      <td>2022-02-25</td>\n",
       "      <td>2022-02-01</td>\n",
       "      <td>8</td>\n",
       "      <td>771.55</td>\n",
       "      <td>Ж</td>\n",
       "      <td>20</td>\n",
       "      <td>Социальная организация №4</td>\n",
       "      <td>1.30</td>\n",
       "    </tr>\n",
       "    <tr>\n",
       "      <th>3</th>\n",
       "      <td>2</td>\n",
       "      <td>Социально-правовые</td>\n",
       "      <td>2022-03-10</td>\n",
       "      <td>1885</td>\n",
       "      <td>2022-03-10</td>\n",
       "      <td>2022-03-01</td>\n",
       "      <td>10</td>\n",
       "      <td>771.55</td>\n",
       "      <td>Ж</td>\n",
       "      <td>20</td>\n",
       "      <td>Социальная организация №4</td>\n",
       "      <td>1.30</td>\n",
       "    </tr>\n",
       "    <tr>\n",
       "      <th>4</th>\n",
       "      <td>2</td>\n",
       "      <td>Социально-правовые</td>\n",
       "      <td>2022-10-27</td>\n",
       "      <td>1885</td>\n",
       "      <td>2022-10-27</td>\n",
       "      <td>2022-10-01</td>\n",
       "      <td>43</td>\n",
       "      <td>771.55</td>\n",
       "      <td>Ж</td>\n",
       "      <td>20</td>\n",
       "      <td>Социальная организация №4</td>\n",
       "      <td>1.30</td>\n",
       "    </tr>\n",
       "  </tbody>\n",
       "</table>\n",
       "</div>"
      ],
      "text/plain": [
       "   service_id        service_name service_time  client_id          dt  \\\n",
       "0           2  Социально-правовые   2022-10-29       1885  2022-10-29   \n",
       "1           2  Социально-правовые   2022-03-25       1967  2022-03-25   \n",
       "2           2  Социально-правовые   2022-02-25       1885  2022-02-25   \n",
       "3           2  Социально-правовые   2022-03-10       1885  2022-03-10   \n",
       "4           2  Социально-правовые   2022-10-27       1885  2022-10-27   \n",
       "\n",
       "       month  week   costs sex  age               company_name  rate  \n",
       "0 2022-10-01    43  771.55   Ж   20  Социальная организация №4  1.30  \n",
       "1 2022-03-01    12  771.55   М   56  Социальная организация №6  1.25  \n",
       "2 2022-02-01     8  771.55   Ж   20  Социальная организация №4  1.30  \n",
       "3 2022-03-01    10  771.55   Ж   20  Социальная организация №4  1.30  \n",
       "4 2022-10-01    43  771.55   Ж   20  Социальная организация №4  1.30  "
      ]
     },
     "execution_count": 19,
     "metadata": {},
     "output_type": "execute_result"
    }
   ],
   "source": [
    "# Объединим все данные в одной таблице\n",
    "data = services\\\n",
    ".merge(service_costs, how='left')\\\n",
    ".merge(clients, how='left')\\\n",
    ".merge(company_rate, how='left')\n",
    "\n",
    "# Выведем количество оказанных услуг\n",
    "print(f'Общее количество оказанных услуг с 5 января 2022 года в итоговой таблице: {len(data)}')\n",
    "\n",
    "# Посмотрим первые 5 строк\n",
    "data.head()"
   ]
  },
  {
   "cell_type": "markdown",
   "metadata": {},
   "source": [
    "### Клиенты и услуги в разрезе огранизаций в 2022 году"
   ]
  },
  {
   "cell_type": "markdown",
   "metadata": {},
   "source": [
    "**Посмотрим как распределены клиенты и оказанные им услуги по организациям**"
   ]
  },
  {
   "cell_type": "code",
   "execution_count": 20,
   "metadata": {
    "ExecuteTime": {
     "end_time": "2023-09-19T10:12:29.520754Z",
     "start_time": "2023-09-19T10:12:29.013006Z"
    }
   },
   "outputs": [
    {
     "data": {
      "text/html": [
       "<div>\n",
       "<style>\n",
       "    .dataframe thead tr:only-child th {\n",
       "        text-align: right;\n",
       "    }\n",
       "\n",
       "    .dataframe thead th {\n",
       "        text-align: left;\n",
       "    }\n",
       "\n",
       "    .dataframe tbody tr th {\n",
       "        vertical-align: top;\n",
       "    }\n",
       "</style>\n",
       "<table border=\"1\" class=\"dataframe\">\n",
       "  <thead>\n",
       "    <tr style=\"text-align: right;\">\n",
       "      <th></th>\n",
       "      <th>company_name</th>\n",
       "      <th>client_id</th>\n",
       "      <th>service_id</th>\n",
       "    </tr>\n",
       "  </thead>\n",
       "  <tbody>\n",
       "    <tr>\n",
       "      <th>0</th>\n",
       "      <td>Социальная организация №1</td>\n",
       "      <td>477</td>\n",
       "      <td>6030</td>\n",
       "    </tr>\n",
       "    <tr>\n",
       "      <th>4</th>\n",
       "      <td>Социальная организация №5</td>\n",
       "      <td>434</td>\n",
       "      <td>5564</td>\n",
       "    </tr>\n",
       "    <tr>\n",
       "      <th>3</th>\n",
       "      <td>Социальная организация №4</td>\n",
       "      <td>379</td>\n",
       "      <td>4741</td>\n",
       "    </tr>\n",
       "    <tr>\n",
       "      <th>1</th>\n",
       "      <td>Социальная организация №2</td>\n",
       "      <td>374</td>\n",
       "      <td>4858</td>\n",
       "    </tr>\n",
       "    <tr>\n",
       "      <th>5</th>\n",
       "      <td>Социальная организация №6</td>\n",
       "      <td>358</td>\n",
       "      <td>4453</td>\n",
       "    </tr>\n",
       "    <tr>\n",
       "      <th>2</th>\n",
       "      <td>Социальная организация №3</td>\n",
       "      <td>349</td>\n",
       "      <td>4398</td>\n",
       "    </tr>\n",
       "  </tbody>\n",
       "</table>\n",
       "</div>"
      ],
      "text/plain": [
       "                company_name  client_id  service_id\n",
       "0  Социальная организация №1        477        6030\n",
       "4  Социальная организация №5        434        5564\n",
       "3  Социальная организация №4        379        4741\n",
       "1  Социальная организация №2        374        4858\n",
       "5  Социальная организация №6        358        4453\n",
       "2  Социальная организация №3        349        4398"
      ]
     },
     "metadata": {},
     "output_type": "display_data"
    },
    {
     "data": {
      "image/png": "[encoded data removed]",
      "text/plain": [
       "<matplotlib.figure.Figure at 0x126fd9e48>"
      ]
     },
     "metadata": {},
     "output_type": "display_data"
    }
   ],
   "source": [
    "# Создадим табличку с количеством клиентов и услуг в разрезе организаций\n",
    "qnt_company = data.groupby('company_name').agg({'client_id':'nunique', 'service_id':'count'})\n",
    "\n",
    "# Посмотрим результат\n",
    "display(qnt_company.reset_index().sort_values('client_id', ascending = False))\n",
    "\n",
    "# Посмотрим результаты на круговой диаграмме\n",
    "plt.rcParams[\"figure.figsize\"] = [12, 5]\n",
    "\n",
    "\n",
    "ax = plt.subplot(1,2,1)\n",
    "\n",
    "plt.pie(qnt_company['client_id'], labels = qnt_company.index, autopct='%1.f%%',\\\n",
    "        explode = (0.05, 0.05, 0.05, 0.05, 0.05, 0.05), shadow = True)\n",
    "ax.set_title('Доля клиентов социальных организаций в 2022 году', fontsize = 11, weight = 'extra bold')\n",
    "\n",
    "ax1 = plt.subplot(1,2,2)\n",
    "plt.pie(qnt_company['service_id'], labels = qnt_company.index, autopct='%1.f%%',\\\n",
    "        explode = (0.05, 0.05, 0.05, 0.05, 0.05, 0.05), shadow = True)\n",
    "ax1.set_title('Доля услуг, оказанных социальными организациями в 2022 году', fontsize = 11, weight = 'extra bold')\n",
    "\n",
    "plt.subplots_adjust(wspace=0.5, hspace=0.5)\n",
    "plt.show()"
   ]
  },
  {
   "cell_type": "markdown",
   "metadata": {},
   "source": [
    "**Вывод:**\n",
    "\n",
    "По графикам можно заметить, что количество клиентов и услуг в разрезе организаций рапспределено примерно одинаково. Но все же наибольшее количество клиентов и оказанных им услуг приходится на социальную организацю №1 и №5. "
   ]
  },
  {
   "cell_type": "markdown",
   "metadata": {
    "ExecuteTime": {
     "end_time": "2023-09-14T13:27:41.303726Z",
     "start_time": "2023-09-14T13:27:41.281546Z"
    }
   },
   "source": [
    "**Посмотрим, какое количество услуг в среднем предоставлялось клиентам в каждой организации.**"
   ]
  },
  {
   "cell_type": "markdown",
   "metadata": {},
   "source": [
    "### Среднее количество услуг на клиента в 2022 году"
   ]
  },
  {
   "cell_type": "code",
   "execution_count": 21,
   "metadata": {
    "ExecuteTime": {
     "end_time": "2023-09-19T10:12:29.836298Z",
     "start_time": "2023-09-19T10:12:29.523860Z"
    }
   },
   "outputs": [
    {
     "data": {
      "text/html": [
       "<div>\n",
       "<style>\n",
       "    .dataframe thead tr:only-child th {\n",
       "        text-align: right;\n",
       "    }\n",
       "\n",
       "    .dataframe thead th {\n",
       "        text-align: left;\n",
       "    }\n",
       "\n",
       "    .dataframe tbody tr th {\n",
       "        vertical-align: top;\n",
       "    }\n",
       "</style>\n",
       "<table border=\"1\" class=\"dataframe\">\n",
       "  <thead>\n",
       "    <tr style=\"text-align: right;\">\n",
       "      <th></th>\n",
       "      <th>company_name</th>\n",
       "      <th>client_id</th>\n",
       "      <th>service_id</th>\n",
       "      <th>avg</th>\n",
       "    </tr>\n",
       "  </thead>\n",
       "  <tbody>\n",
       "    <tr>\n",
       "      <th>1</th>\n",
       "      <td>Социальная организация №2</td>\n",
       "      <td>374</td>\n",
       "      <td>4858</td>\n",
       "      <td>13.0</td>\n",
       "    </tr>\n",
       "    <tr>\n",
       "      <th>4</th>\n",
       "      <td>Социальная организация №5</td>\n",
       "      <td>434</td>\n",
       "      <td>5564</td>\n",
       "      <td>12.8</td>\n",
       "    </tr>\n",
       "    <tr>\n",
       "      <th>0</th>\n",
       "      <td>Социальная организация №1</td>\n",
       "      <td>477</td>\n",
       "      <td>6030</td>\n",
       "      <td>12.6</td>\n",
       "    </tr>\n",
       "    <tr>\n",
       "      <th>2</th>\n",
       "      <td>Социальная организация №3</td>\n",
       "      <td>349</td>\n",
       "      <td>4398</td>\n",
       "      <td>12.6</td>\n",
       "    </tr>\n",
       "    <tr>\n",
       "      <th>3</th>\n",
       "      <td>Социальная организация №4</td>\n",
       "      <td>379</td>\n",
       "      <td>4741</td>\n",
       "      <td>12.5</td>\n",
       "    </tr>\n",
       "    <tr>\n",
       "      <th>5</th>\n",
       "      <td>Социальная организация №6</td>\n",
       "      <td>358</td>\n",
       "      <td>4453</td>\n",
       "      <td>12.4</td>\n",
       "    </tr>\n",
       "  </tbody>\n",
       "</table>\n",
       "</div>"
      ],
      "text/plain": [
       "                company_name  client_id  service_id   avg\n",
       "1  Социальная организация №2        374        4858  13.0\n",
       "4  Социальная организация №5        434        5564  12.8\n",
       "0  Социальная организация №1        477        6030  12.6\n",
       "2  Социальная организация №3        349        4398  12.6\n",
       "3  Социальная организация №4        379        4741  12.5\n",
       "5  Социальная организация №6        358        4453  12.4"
      ]
     },
     "metadata": {},
     "output_type": "display_data"
    },
    {
     "data": {
      "image/png": "[encoded data removed]",
      "text/plain": [
       "<matplotlib.figure.Figure at 0x1273c97f0>"
      ]
     },
     "metadata": {},
     "output_type": "display_data"
    }
   ],
   "source": [
    "# Создадим таблицу с кол-во уникальных клиентов и кол-во услуг\n",
    "avg_service = data.groupby('company_name', as_index = False).agg({'client_id':'nunique','service_id':'count'})\n",
    "\n",
    "# Посчитаем среднее количество услуг на клиента\n",
    "avg_service['avg'] = round(avg_service['service_id'] / avg_service['client_id'],1)\n",
    "\n",
    "\n",
    "# Посмотрим результат\n",
    "display(avg_service.sort_values('avg', ascending = False))\n",
    "\n",
    "\n",
    "# Посмотрим на графике полученный результат\n",
    "avg_service\\\n",
    ".sort_values('avg', ascending = False)\\\n",
    ".plot(x ='company_name', \n",
    "      y = 'avg', \n",
    "      kind = 'barh', \n",
    "      grid = True,\n",
    "      legend = False,\n",
    "      figsize = (12,4))\n",
    "\n",
    "plt.xlabel('Среднее количество услуг на клиента')\n",
    "plt.ylabel('Название организации')\n",
    "plt.title('Среднее количество услуг на клиента в разрезе организаций за 2022 год',\n",
    "          fontsize = 12, weight = 'extra bold', y = 1.05)\n",
    "plt.show()"
   ]
  },
  {
   "cell_type": "markdown",
   "metadata": {},
   "source": [
    "**Вывод:**\n",
    "\n",
    "По графику видно, что, несмотря на явное лидерство социальных организаций №1 и №5 по количеству клиентов и оказанных услуг в 2022 году, лидером по среднему количеству услуг на клиента является социальная организация №2."
   ]
  },
  {
   "cell_type": "markdown",
   "metadata": {
    "ExecuteTime": {
     "end_time": "2023-09-14T12:24:22.112463Z",
     "start_time": "2023-09-14T12:24:22.083933Z"
    }
   },
   "source": [
    "**Посмотрим в динамике по месяцам, как менялась картина.**"
   ]
  },
  {
   "cell_type": "markdown",
   "metadata": {},
   "source": [
    "### Динамика количества клиентов и услуг в разрезе организаций в 2022 году"
   ]
  },
  {
   "cell_type": "code",
   "execution_count": 22,
   "metadata": {
    "ExecuteTime": {
     "end_time": "2023-09-19T10:12:30.595578Z",
     "start_time": "2023-09-19T10:12:29.839608Z"
    }
   },
   "outputs": [
    {
     "data": {
      "image/png": "[encoded data removed]",
      "text/plain": [
       "<matplotlib.figure.Figure at 0x126fda7f0>"
      ]
     },
     "metadata": {},
     "output_type": "display_data"
    }
   ],
   "source": [
    "# Построим график динамики кол-ва клиентов по месяцам в разрезе организаций\n",
    "plt.figure(figsize=(23, 7))\n",
    "\n",
    "ax1 = plt.subplot(1, 2, 1)\n",
    "data.pivot_table(index = 'month', \n",
    "                 columns = 'company_name', \n",
    "                 values = 'client_id', \n",
    "                 aggfunc = 'nunique').plot(ax=ax1)\n",
    "ax1.grid (axis='y')\n",
    "plt.xlabel('Месяц')\n",
    "plt.ylabel('Количество клиентов')\n",
    "plt.title('Динамика количества клиентов по месяцам в разрезе организаций за 2022 год', \n",
    "          fontsize = 14, weight = 'extra bold', y = 1.05)\n",
    "\n",
    "# Построим график динамики кол-ва услуг по месяцам в разрезе организаций\n",
    "ax2 = plt.subplot(1, 2, 2)\n",
    "data.pivot_table(index = 'month', \n",
    "                 columns = 'company_name', \n",
    "                 values = 'service_id', \n",
    "                 aggfunc = 'count').plot(legend=False, ax=ax2)\n",
    "ax2.grid (axis='y')\n",
    "plt.xlabel('Месяц')\n",
    "plt.ylabel('Количество оказанных услуг')\n",
    "plt.title('Динамика оказанных услуг по месяцам в разрезе организаций за 2022 год', \n",
    "          fontsize = 14, weight = 'extra bold', y = 1.05)\n",
    "plt.show()"
   ]
  },
  {
   "cell_type": "markdown",
   "metadata": {},
   "source": [
    "**Вывод:**\n",
    "\n",
    "Виден явный рост количества клиентов с февраля по апрель - что связано с началом СВО, т.к. многие люди начали обращаться за социальными услугами. Начиная с мая и по июль видно явное снижение количества клиентов, которые обращаются за услугами, что связано с началом дачного сезона в мае и постепенным ростом в начале августа. Уже в сентябре случилась мобилизация и произошел резкий рост обращений за социальными услугами вплоть до ноября.\n",
    "\n",
    "**Следует посмотреть за какими услугами обращались клиенты больше всего.**"
   ]
  },
  {
   "cell_type": "markdown",
   "metadata": {},
   "source": [
    "### Популярность услуг в разрезе организаций в 2022 году"
   ]
  },
  {
   "cell_type": "code",
   "execution_count": 23,
   "metadata": {
    "ExecuteTime": {
     "end_time": "2023-09-19T10:12:31.813906Z",
     "start_time": "2023-09-19T10:12:30.599373Z"
    }
   },
   "outputs": [
    {
     "data": {
      "text/html": [
       "<div>\n",
       "<style>\n",
       "    .dataframe thead tr:only-child th {\n",
       "        text-align: right;\n",
       "    }\n",
       "\n",
       "    .dataframe thead th {\n",
       "        text-align: left;\n",
       "    }\n",
       "\n",
       "    .dataframe tbody tr th {\n",
       "        vertical-align: top;\n",
       "    }\n",
       "</style>\n",
       "<table border=\"1\" class=\"dataframe\">\n",
       "  <thead>\n",
       "    <tr style=\"text-align: right;\">\n",
       "      <th></th>\n",
       "      <th>service_name</th>\n",
       "      <th>client_id</th>\n",
       "    </tr>\n",
       "  </thead>\n",
       "  <tbody>\n",
       "    <tr>\n",
       "      <th>0</th>\n",
       "      <td>Социально-правовые</td>\n",
       "      <td>7898</td>\n",
       "    </tr>\n",
       "    <tr>\n",
       "      <th>1</th>\n",
       "      <td>Социально-экономические</td>\n",
       "      <td>6815</td>\n",
       "    </tr>\n",
       "    <tr>\n",
       "      <th>2</th>\n",
       "      <td>Социально-психологические</td>\n",
       "      <td>6371</td>\n",
       "    </tr>\n",
       "    <tr>\n",
       "      <th>3</th>\n",
       "      <td>Социально-медицинские</td>\n",
       "      <td>4537</td>\n",
       "    </tr>\n",
       "    <tr>\n",
       "      <th>4</th>\n",
       "      <td>Социально-бытовые</td>\n",
       "      <td>4423</td>\n",
       "    </tr>\n",
       "  </tbody>\n",
       "</table>\n",
       "</div>"
      ],
      "text/plain": [
       "                service_name  client_id\n",
       "0         Социально-правовые       7898\n",
       "1    Социально-экономические       6815\n",
       "2  Социально-психологические       6371\n",
       "3      Социально-медицинские       4537\n",
       "4          Социально-бытовые       4423"
      ]
     },
     "metadata": {},
     "output_type": "display_data"
    },
    {
     "data": {
      "image/png": "[encoded data removed]",
      "text/plain": [
       "<matplotlib.figure.Figure at 0x126fda978>"
      ]
     },
     "metadata": {},
     "output_type": "display_data"
    }
   ],
   "source": [
    "# Посмотрим, какие услуги предпочитают клиенты в разрезе организаций\n",
    "company_service = data.pivot_table(index = 'service_name', \n",
    "                                   columns = 'company_name', values = 'client_id', aggfunc = 'count')\n",
    "\n",
    "# Посмотрим количество услуг в 2022 году\n",
    "display(data.pivot_table(index = 'service_name', values = 'client_id', aggfunc = 'count')\\\n",
    "       .sort_values('client_id', ascending = False).reset_index())\n",
    "\n",
    "company_service.plot(subplots = True,\n",
    "           layout = (3,3),    \n",
    "           kind = 'barh',      \n",
    "           figsize = (18,14),   \n",
    "           sharey = True,     \n",
    "           legend = False,    \n",
    "           rot = 0)\n",
    "\n",
    "plt.subplots_adjust(wspace=0.2, hspace=0.2)\n",
    "plt.show()"
   ]
  },
  {
   "cell_type": "markdown",
   "metadata": {},
   "source": [
    "**Вывод:**\n",
    "\n",
    "Во всех организациях клиенты предпочитают одни и те же услуги: социально-правовые услуги, социально-экономические, социально-психологические, социально-медицинские, социально-бытовые.\n",
    "\n",
    "**Посмотрим, какие услуги пользуются популярностью в течение года.**"
   ]
  },
  {
   "cell_type": "markdown",
   "metadata": {},
   "source": [
    "### Популярность  услуг по месяцам в 2022 году"
   ]
  },
  {
   "cell_type": "code",
   "execution_count": 24,
   "metadata": {
    "ExecuteTime": {
     "end_time": "2023-09-19T10:12:38.830661Z",
     "start_time": "2023-09-19T10:12:31.817399Z"
    }
   },
   "outputs": [
    {
     "name": "stderr",
     "output_type": "stream",
     "text": [
      "IOPub data rate exceeded.\n",
      "The notebook server will temporarily stop sending output\n",
      "to the client in order to avoid crashing it.\n",
      "To change this limit, set the config variable\n",
      "`--NotebookApp.iopub_data_rate_limit`.\n"
     ]
    }
   ],
   "source": [
    "import plotly\n",
    "from plotly import figure_factory as FF\n",
    "plotly.offline.init_notebook_mode()\n",
    "import plotly.graph_objs as go\n",
    "from plotly import tools\n",
    "from plotly.offline import *\n",
    "from plotly.graph_objs import *"
   ]
  },
  {
   "cell_type": "code",
   "execution_count": 25,
   "metadata": {
    "ExecuteTime": {
     "end_time": "2023-09-19T10:12:52.857739Z",
     "start_time": "2023-09-19T10:12:38.840543Z"
    },
    "scrolled": false
   },
   "outputs": [
    {
     "data": {
      "application/vnd.plotly.v1+json": {
       "config": {
        "linkText": "Export to plot.ly",
        "plotlyServerURL": "https://plot.ly",
        "showLink": false
       },
       "data": [
        {
         "name": "Социально-бытовые",
         "type": "scatter",
         "x": [
          "2022-01-01T00:00:00",
          "2022-02-01T00:00:00",
          "2022-03-01T00:00:00",
          "2022-04-01T00:00:00",
          "2022-05-01T00:00:00",
          "2022-06-01T00:00:00",
          "2022-07-01T00:00:00",
          "2022-08-01T00:00:00",
          "2022-09-01T00:00:00",
          "2022-10-01T00:00:00",
          "2022-11-01T00:00:00",
          "2022-12-01T00:00:00"
         ],
         "y": [
          362,
          319,
          347,
          325,
          413,
          392,
          371,
          386,
          343,
          334,
          351,
          480
         ]
        },
        {
         "name": "Социально-медицинские",
         "type": "scatter",
         "x": [
          "2022-01-01T00:00:00",
          "2022-02-01T00:00:00",
          "2022-03-01T00:00:00",
          "2022-04-01T00:00:00",
          "2022-05-01T00:00:00",
          "2022-06-01T00:00:00",
          "2022-07-01T00:00:00",
          "2022-08-01T00:00:00",
          "2022-09-01T00:00:00",
          "2022-10-01T00:00:00",
          "2022-11-01T00:00:00",
          "2022-12-01T00:00:00"
         ],
         "y": [
          383,
          356,
          352,
          357,
          432,
          386,
          409,
          369,
          349,
          371,
          365,
          408
         ]
        },
        {
         "name": "Социально-правовые",
         "type": "scatter",
         "x": [
          "2022-01-01T00:00:00",
          "2022-02-01T00:00:00",
          "2022-03-01T00:00:00",
          "2022-04-01T00:00:00",
          "2022-05-01T00:00:00",
          "2022-06-01T00:00:00",
          "2022-07-01T00:00:00",
          "2022-08-01T00:00:00",
          "2022-09-01T00:00:00",
          "2022-10-01T00:00:00",
          "2022-11-01T00:00:00",
          "2022-12-01T00:00:00"
         ],
         "y": [
          468,
          731,
          790,
          799,
          596,
          518,
          476,
          517,
          763,
          807,
          772,
          661
         ]
        },
        {
         "name": "Социально-психологические",
         "type": "scatter",
         "x": [
          "2022-01-01T00:00:00",
          "2022-02-01T00:00:00",
          "2022-03-01T00:00:00",
          "2022-04-01T00:00:00",
          "2022-05-01T00:00:00",
          "2022-06-01T00:00:00",
          "2022-07-01T00:00:00",
          "2022-08-01T00:00:00",
          "2022-09-01T00:00:00",
          "2022-10-01T00:00:00",
          "2022-11-01T00:00:00",
          "2022-12-01T00:00:00"
         ],
         "y": [
          444,
          545,
          586,
          651,
          477,
          423,
          460,
          442,
          579,
          591,
          603,
          570
         ]
        },
        {
         "name": "Социально-экономические",
         "type": "scatter",
         "x": [
          "2022-01-01T00:00:00",
          "2022-02-01T00:00:00",
          "2022-03-01T00:00:00",
          "2022-04-01T00:00:00",
          "2022-05-01T00:00:00",
          "2022-06-01T00:00:00",
          "2022-07-01T00:00:00",
          "2022-08-01T00:00:00",
          "2022-09-01T00:00:00",
          "2022-10-01T00:00:00",
          "2022-11-01T00:00:00",
          "2022-12-01T00:00:00"
         ],
         "y": [
          457,
          642,
          640,
          654,
          533,
          500,
          480,
          463,
          600,
          596,
          638,
          612
         ]
        }
       ],
       "layout": {
        "template": {
         "data": {
          "bar": [
           {
            "error_x": {
             "color": "#2a3f5f"
            },
            "error_y": {
             "color": "#2a3f5f"
            },
            "marker": {
             "line": {
              "color": "#E5ECF6",
              "width": 0.5
             }
            },
            "type": "bar"
           }
          ],
          "barpolar": [
           {
            "marker": {
             "line": {
              "color": "#E5ECF6",
              "width": 0.5
             }
            },
            "type": "barpolar"
           }
          ],
          "carpet": [
           {
            "aaxis": {
             "endlinecolor": "#2a3f5f",
             "gridcolor": "white",
             "linecolor": "white",
             "minorgridcolor": "white",
             "startlinecolor": "#2a3f5f"
            },
            "baxis": {
             "endlinecolor": "#2a3f5f",
             "gridcolor": "white",
             "linecolor": "white",
             "minorgridcolor": "white",
             "startlinecolor": "#2a3f5f"
            },
            "type": "carpet"
           }
          ],
          "choropleth": [
           {
            "colorbar": {
             "outlinewidth": 0,
             "ticks": ""
            },
            "type": "choropleth"
           }
          ],
          "contour": [
           {
            "colorbar": {
             "outlinewidth": 0,
             "ticks": ""
            },
            "colorscale": [
             [
              0,
              "#0d0887"
             ],
             [
              0.1111111111111111,
              "#46039f"
             ],
             [
              0.2222222222222222,
              "#7201a8"
             ],
             [
              0.3333333333333333,
              "#9c179e"
             ],
             [
              0.4444444444444444,
              "#bd3786"
             ],
             [
              0.5555555555555556,
              "#d8576b"
             ],
             [
              0.6666666666666666,
              "#ed7953"
             ],
             [
              0.7777777777777778,
              "#fb9f3a"
             ],
             [
              0.8888888888888888,
              "#fdca26"
             ],
             [
              1,
              "#f0f921"
             ]
            ],
            "type": "contour"
           }
          ],
          "contourcarpet": [
           {
            "colorbar": {
             "outlinewidth": 0,
             "ticks": ""
            },
            "type": "contourcarpet"
           }
          ],
          "heatmap": [
           {
            "colorbar": {
             "outlinewidth": 0,
             "ticks": ""
            },
            "colorscale": [
             [
              0,
              "#0d0887"
             ],
             [
              0.1111111111111111,
              "#46039f"
             ],
             [
              0.2222222222222222,
              "#7201a8"
             ],
             [
              0.3333333333333333,
              "#9c179e"
             ],
             [
              0.4444444444444444,
              "#bd3786"
             ],
             [
              0.5555555555555556,
              "#d8576b"
             ],
             [
              0.6666666666666666,
              "#ed7953"
             ],
             [
              0.7777777777777778,
              "#fb9f3a"
             ],
             [
              0.8888888888888888,
              "#fdca26"
             ],
             [
              1,
              "#f0f921"
             ]
            ],
            "type": "heatmap"
           }
          ],
          "heatmapgl": [
           {
            "colorbar": {
             "outlinewidth": 0,
             "ticks": ""
            },
            "colorscale": [
             [
              0,
              "#0d0887"
             ],
             [
              0.1111111111111111,
              "#46039f"
             ],
             [
              0.2222222222222222,
              "#7201a8"
             ],
             [
              0.3333333333333333,
              "#9c179e"
             ],
             [
              0.4444444444444444,
              "#bd3786"
             ],
             [
              0.5555555555555556,
              "#d8576b"
             ],
             [
              0.6666666666666666,
              "#ed7953"
             ],
             [
              0.7777777777777778,
              "#fb9f3a"
             ],
             [
              0.8888888888888888,
              "#fdca26"
             ],
             [
              1,
              "#f0f921"
             ]
            ],
            "type": "heatmapgl"
           }
          ],
          "histogram": [
           {
            "marker": {
             "colorbar": {
              "outlinewidth": 0,
              "ticks": ""
             }
            },
            "type": "histogram"
           }
          ],
          "histogram2d": [
           {
            "colorbar": {
             "outlinewidth": 0,
             "ticks": ""
            },
            "colorscale": [
             [
              0,
              "#0d0887"
             ],
             [
              0.1111111111111111,
              "#46039f"
             ],
             [
              0.2222222222222222,
              "#7201a8"
             ],
             [
              0.3333333333333333,
              "#9c179e"
             ],
             [
              0.4444444444444444,
              "#bd3786"
             ],
             [
              0.5555555555555556,
              "#d8576b"
             ],
             [
              0.6666666666666666,
              "#ed7953"
             ],
             [
              0.7777777777777778,
              "#fb9f3a"
             ],
             [
              0.8888888888888888,
              "#fdca26"
             ],
             [
              1,
              "#f0f921"
             ]
            ],
            "type": "histogram2d"
           }
          ],
          "histogram2dcontour": [
           {
            "colorbar": {
             "outlinewidth": 0,
             "ticks": ""
            },
            "colorscale": [
             [
              0,
              "#0d0887"
             ],
             [
              0.1111111111111111,
              "#46039f"
             ],
             [
              0.2222222222222222,
              "#7201a8"
             ],
             [
              0.3333333333333333,
              "#9c179e"
             ],
             [
              0.4444444444444444,
              "#bd3786"
             ],
             [
              0.5555555555555556,
              "#d8576b"
             ],
             [
              0.6666666666666666,
              "#ed7953"
             ],
             [
              0.7777777777777778,
              "#fb9f3a"
             ],
             [
              0.8888888888888888,
              "#fdca26"
             ],
             [
              1,
              "#f0f921"
             ]
            ],
            "type": "histogram2dcontour"
           }
          ],
          "mesh3d": [
           {
            "colorbar": {
             "outlinewidth": 0,
             "ticks": ""
            },
            "type": "mesh3d"
           }
          ],
          "parcoords": [
           {
            "line": {
             "colorbar": {
              "outlinewidth": 0,
              "ticks": ""
             }
            },
            "type": "parcoords"
           }
          ],
          "pie": [
           {
            "automargin": true,
            "type": "pie"
           }
          ],
          "scatter": [
           {
            "marker": {
             "colorbar": {
              "outlinewidth": 0,
              "ticks": ""
             }
            },
            "type": "scatter"
           }
          ],
          "scatter3d": [
           {
            "line": {
             "colorbar": {
              "outlinewidth": 0,
              "ticks": ""
             }
            },
            "marker": {
             "colorbar": {
              "outlinewidth": 0,
              "ticks": ""
             }
            },
            "type": "scatter3d"
           }
          ],
          "scattercarpet": [
           {
            "marker": {
             "colorbar": {
              "outlinewidth": 0,
              "ticks": ""
             }
            },
            "type": "scattercarpet"
           }
          ],
          "scattergeo": [
           {
            "marker": {
             "colorbar": {
              "outlinewidth": 0,
              "ticks": ""
             }
            },
            "type": "scattergeo"
           }
          ],
          "scattergl": [
           {
            "marker": {
             "colorbar": {
              "outlinewidth": 0,
              "ticks": ""
             }
            },
            "type": "scattergl"
           }
          ],
          "scattermapbox": [
           {
            "marker": {
             "colorbar": {
              "outlinewidth": 0,
              "ticks": ""
             }
            },
            "type": "scattermapbox"
           }
          ],
          "scatterpolar": [
           {
            "marker": {
             "colorbar": {
              "outlinewidth": 0,
              "ticks": ""
             }
            },
            "type": "scatterpolar"
           }
          ],
          "scatterpolargl": [
           {
            "marker": {
             "colorbar": {
              "outlinewidth": 0,
              "ticks": ""
             }
            },
            "type": "scatterpolargl"
           }
          ],
          "scatterternary": [
           {
            "marker": {
             "colorbar": {
              "outlinewidth": 0,
              "ticks": ""
             }
            },
            "type": "scatterternary"
           }
          ],
          "surface": [
           {
            "colorbar": {
             "outlinewidth": 0,
             "ticks": ""
            },
            "colorscale": [
             [
              0,
              "#0d0887"
             ],
             [
              0.1111111111111111,
              "#46039f"
             ],
             [
              0.2222222222222222,
              "#7201a8"
             ],
             [
              0.3333333333333333,
              "#9c179e"
             ],
             [
              0.4444444444444444,
              "#bd3786"
             ],
             [
              0.5555555555555556,
              "#d8576b"
             ],
             [
              0.6666666666666666,
              "#ed7953"
             ],
             [
              0.7777777777777778,
              "#fb9f3a"
             ],
             [
              0.8888888888888888,
              "#fdca26"
             ],
             [
              1,
              "#f0f921"
             ]
            ],
            "type": "surface"
           }
          ],
          "table": [
           {
            "cells": {
             "fill": {
              "color": "#EBF0F8"
             },
             "line": {
              "color": "white"
             }
            },
            "header": {
             "fill": {
              "color": "#C8D4E3"
             },
             "line": {
              "color": "white"
             }
            },
            "type": "table"
           }
          ]
         },
         "layout": {
          "annotationdefaults": {
           "arrowcolor": "#2a3f5f",
           "arrowhead": 0,
           "arrowwidth": 1
          },
          "autotypenumbers": "strict",
          "coloraxis": {
           "colorbar": {
            "outlinewidth": 0,
            "ticks": ""
           }
          },
          "colorscale": {
           "diverging": [
            [
             0,
             "#8e0152"
            ],
            [
             0.1,
             "#c51b7d"
            ],
            [
             0.2,
             "#de77ae"
            ],
            [
             0.3,
             "#f1b6da"
            ],
            [
             0.4,
             "#fde0ef"
            ],
            [
             0.5,
             "#f7f7f7"
            ],
            [
             0.6,
             "#e6f5d0"
            ],
            [
             0.7,
             "#b8e186"
            ],
            [
             0.8,
             "#7fbc41"
            ],
            [
             0.9,
             "#4d9221"
            ],
            [
             1,
             "#276419"
            ]
           ],
           "sequential": [
            [
             0,
             "#0d0887"
            ],
            [
             0.1111111111111111,
             "#46039f"
            ],
            [
             0.2222222222222222,
             "#7201a8"
            ],
            [
             0.3333333333333333,
             "#9c179e"
            ],
            [
             0.4444444444444444,
             "#bd3786"
            ],
            [
             0.5555555555555556,
             "#d8576b"
            ],
            [
             0.6666666666666666,
             "#ed7953"
            ],
            [
             0.7777777777777778,
             "#fb9f3a"
            ],
            [
             0.8888888888888888,
             "#fdca26"
            ],
            [
             1,
             "#f0f921"
            ]
           ],
           "sequentialminus": [
            [
             0,
             "#0d0887"
            ],
            [
             0.1111111111111111,
             "#46039f"
            ],
            [
             0.2222222222222222,
             "#7201a8"
            ],
            [
             0.3333333333333333,
             "#9c179e"
            ],
            [
             0.4444444444444444,
             "#bd3786"
            ],
            [
             0.5555555555555556,
             "#d8576b"
            ],
            [
             0.6666666666666666,
             "#ed7953"
            ],
            [
             0.7777777777777778,
             "#fb9f3a"
            ],
            [
             0.8888888888888888,
             "#fdca26"
            ],
            [
             1,
             "#f0f921"
            ]
           ]
          },
          "colorway": [
           "#636efa",
           "#EF553B",
           "#00cc96",
           "#ab63fa",
           "#FFA15A",
           "#19d3f3",
           "#FF6692",
           "#B6E880",
           "#FF97FF",
           "#FECB52"
          ],
          "font": {
           "color": "#2a3f5f"
          },
          "geo": {
           "bgcolor": "white",
           "lakecolor": "white",
           "landcolor": "#E5ECF6",
           "showlakes": true,
           "showland": true,
           "subunitcolor": "white"
          },
          "hoverlabel": {
           "align": "left"
          },
          "hovermode": "closest",
          "mapbox": {
           "style": "light"
          },
          "paper_bgcolor": "white",
          "plot_bgcolor": "#E5ECF6",
          "polar": {
           "angularaxis": {
            "gridcolor": "white",
            "linecolor": "white",
            "ticks": ""
           },
           "bgcolor": "#E5ECF6",
           "radialaxis": {
            "gridcolor": "white",
            "linecolor": "white",
            "ticks": ""
           }
          },
          "scene": {
           "xaxis": {
            "backgroundcolor": "#E5ECF6",
            "gridcolor": "white",
            "gridwidth": 2,
            "linecolor": "white",
            "showbackground": true,
            "ticks": "",
            "zerolinecolor": "white"
           },
           "yaxis": {
            "backgroundcolor": "#E5ECF6",
            "gridcolor": "white",
            "gridwidth": 2,
            "linecolor": "white",
            "showbackground": true,
            "ticks": "",
            "zerolinecolor": "white"
           },
           "zaxis": {
            "backgroundcolor": "#E5ECF6",
            "gridcolor": "white",
            "gridwidth": 2,
            "linecolor": "white",
            "showbackground": true,
            "ticks": "",
            "zerolinecolor": "white"
           }
          },
          "shapedefaults": {
           "line": {
            "color": "#2a3f5f"
           }
          },
          "ternary": {
           "aaxis": {
            "gridcolor": "white",
            "linecolor": "white",
            "ticks": ""
           },
           "baxis": {
            "gridcolor": "white",
            "linecolor": "white",
            "ticks": ""
           },
           "bgcolor": "#E5ECF6",
           "caxis": {
            "gridcolor": "white",
            "linecolor": "white",
            "ticks": ""
           }
          },
          "title": {
           "x": 0.05
          },
          "xaxis": {
           "automargin": true,
           "gridcolor": "white",
           "linecolor": "white",
           "ticks": "",
           "title": {
            "standoff": 15
           },
           "zerolinecolor": "white",
           "zerolinewidth": 2
          },
          "yaxis": {
           "automargin": true,
           "gridcolor": "white",
           "linecolor": "white",
           "ticks": "",
           "title": {
            "standoff": 15
           },
           "zerolinecolor": "white",
           "zerolinewidth": 2
          }
         }
        },
        "title": {
         "text": ""
        }
       }
      },
      "text/html": [
       "<div>                            <div id=\"9ae6a48e-9cd5-434d-8ca7-09317cf8c71e\" class=\"plotly-graph-div\" style=\"height:525px; width:100%;\"></div>            <script type=\"text/javascript\">                require([\"plotly\"], function(Plotly) {                    window.PLOTLYENV=window.PLOTLYENV || {};                                    if (document.getElementById(\"9ae6a48e-9cd5-434d-8ca7-09317cf8c71e\")) {                    Plotly.newPlot(                        \"9ae6a48e-9cd5-434d-8ca7-09317cf8c71e\",                        [{\"name\": \"\\u0421\\u043e\\u0446\\u0438\\u0430\\u043b\\u044c\\u043d\\u043e-\\u0431\\u044b\\u0442\\u043e\\u0432\\u044b\\u0435\", \"type\": \"scatter\", \"x\": [\"2022-01-01T00:00:00\", \"2022-02-01T00:00:00\", \"2022-03-01T00:00:00\", \"2022-04-01T00:00:00\", \"2022-05-01T00:00:00\", \"2022-06-01T00:00:00\", \"2022-07-01T00:00:00\", \"2022-08-01T00:00:00\", \"2022-09-01T00:00:00\", \"2022-10-01T00:00:00\", \"2022-11-01T00:00:00\", \"2022-12-01T00:00:00\"], \"y\": [362, 319, 347, 325, 413, 392, 371, 386, 343, 334, 351, 480]}, {\"name\": \"\\u0421\\u043e\\u0446\\u0438\\u0430\\u043b\\u044c\\u043d\\u043e-\\u043c\\u0435\\u0434\\u0438\\u0446\\u0438\\u043d\\u0441\\u043a\\u0438\\u0435\", \"type\": \"scatter\", \"x\": [\"2022-01-01T00:00:00\", \"2022-02-01T00:00:00\", \"2022-03-01T00:00:00\", \"2022-04-01T00:00:00\", \"2022-05-01T00:00:00\", \"2022-06-01T00:00:00\", \"2022-07-01T00:00:00\", \"2022-08-01T00:00:00\", \"2022-09-01T00:00:00\", \"2022-10-01T00:00:00\", \"2022-11-01T00:00:00\", \"2022-12-01T00:00:00\"], \"y\": [383, 356, 352, 357, 432, 386, 409, 369, 349, 371, 365, 408]}, {\"name\": \"\\u0421\\u043e\\u0446\\u0438\\u0430\\u043b\\u044c\\u043d\\u043e-\\u043f\\u0440\\u0430\\u0432\\u043e\\u0432\\u044b\\u0435\", \"type\": \"scatter\", \"x\": [\"2022-01-01T00:00:00\", \"2022-02-01T00:00:00\", \"2022-03-01T00:00:00\", \"2022-04-01T00:00:00\", \"2022-05-01T00:00:00\", \"2022-06-01T00:00:00\", \"2022-07-01T00:00:00\", \"2022-08-01T00:00:00\", \"2022-09-01T00:00:00\", \"2022-10-01T00:00:00\", \"2022-11-01T00:00:00\", \"2022-12-01T00:00:00\"], \"y\": [468, 731, 790, 799, 596, 518, 476, 517, 763, 807, 772, 661]}, {\"name\": \"\\u0421\\u043e\\u0446\\u0438\\u0430\\u043b\\u044c\\u043d\\u043e-\\u043f\\u0441\\u0438\\u0445\\u043e\\u043b\\u043e\\u0433\\u0438\\u0447\\u0435\\u0441\\u043a\\u0438\\u0435\", \"type\": \"scatter\", \"x\": [\"2022-01-01T00:00:00\", \"2022-02-01T00:00:00\", \"2022-03-01T00:00:00\", \"2022-04-01T00:00:00\", \"2022-05-01T00:00:00\", \"2022-06-01T00:00:00\", \"2022-07-01T00:00:00\", \"2022-08-01T00:00:00\", \"2022-09-01T00:00:00\", \"2022-10-01T00:00:00\", \"2022-11-01T00:00:00\", \"2022-12-01T00:00:00\"], \"y\": [444, 545, 586, 651, 477, 423, 460, 442, 579, 591, 603, 570]}, {\"name\": \"\\u0421\\u043e\\u0446\\u0438\\u0430\\u043b\\u044c\\u043d\\u043e-\\u044d\\u043a\\u043e\\u043d\\u043e\\u043c\\u0438\\u0447\\u0435\\u0441\\u043a\\u0438\\u0435\", \"type\": \"scatter\", \"x\": [\"2022-01-01T00:00:00\", \"2022-02-01T00:00:00\", \"2022-03-01T00:00:00\", \"2022-04-01T00:00:00\", \"2022-05-01T00:00:00\", \"2022-06-01T00:00:00\", \"2022-07-01T00:00:00\", \"2022-08-01T00:00:00\", \"2022-09-01T00:00:00\", \"2022-10-01T00:00:00\", \"2022-11-01T00:00:00\", \"2022-12-01T00:00:00\"], \"y\": [457, 642, 640, 654, 533, 500, 480, 463, 600, 596, 638, 612]}],                        {\"template\": {\"data\": {\"bar\": [{\"error_x\": {\"color\": \"#2a3f5f\"}, \"error_y\": {\"color\": \"#2a3f5f\"}, \"marker\": {\"line\": {\"color\": \"#E5ECF6\", \"width\": 0.5}}, \"type\": \"bar\"}], \"barpolar\": [{\"marker\": {\"line\": {\"color\": \"#E5ECF6\", \"width\": 0.5}}, \"type\": \"barpolar\"}], \"carpet\": [{\"aaxis\": {\"endlinecolor\": \"#2a3f5f\", \"gridcolor\": \"white\", \"linecolor\": \"white\", \"minorgridcolor\": \"white\", \"startlinecolor\": \"#2a3f5f\"}, \"baxis\": {\"endlinecolor\": \"#2a3f5f\", \"gridcolor\": \"white\", \"linecolor\": \"white\", \"minorgridcolor\": \"white\", \"startlinecolor\": \"#2a3f5f\"}, \"type\": \"carpet\"}], \"choropleth\": [{\"colorbar\": {\"outlinewidth\": 0, \"ticks\": \"\"}, \"type\": \"choropleth\"}], \"contour\": [{\"colorbar\": {\"outlinewidth\": 0, \"ticks\": \"\"}, \"colorscale\": [[0.0, \"#0d0887\"], [0.1111111111111111, \"#46039f\"], [0.2222222222222222, \"#7201a8\"], [0.3333333333333333, \"#9c179e\"], [0.4444444444444444, \"#bd3786\"], [0.5555555555555556, \"#d8576b\"], [0.6666666666666666, \"#ed7953\"], [0.7777777777777778, \"#fb9f3a\"], [0.8888888888888888, \"#fdca26\"], [1.0, \"#f0f921\"]], \"type\": \"contour\"}], \"contourcarpet\": [{\"colorbar\": {\"outlinewidth\": 0, \"ticks\": \"\"}, \"type\": \"contourcarpet\"}], \"heatmap\": [{\"colorbar\": {\"outlinewidth\": 0, \"ticks\": \"\"}, \"colorscale\": [[0.0, \"#0d0887\"], [0.1111111111111111, \"#46039f\"], [0.2222222222222222, \"#7201a8\"], [0.3333333333333333, \"#9c179e\"], [0.4444444444444444, \"#bd3786\"], [0.5555555555555556, \"#d8576b\"], [0.6666666666666666, \"#ed7953\"], [0.7777777777777778, \"#fb9f3a\"], [0.8888888888888888, \"#fdca26\"], [1.0, \"#f0f921\"]], \"type\": \"heatmap\"}], \"heatmapgl\": [{\"colorbar\": {\"outlinewidth\": 0, \"ticks\": \"\"}, \"colorscale\": [[0.0, \"#0d0887\"], [0.1111111111111111, \"#46039f\"], [0.2222222222222222, \"#7201a8\"], [0.3333333333333333, \"#9c179e\"], [0.4444444444444444, \"#bd3786\"], [0.5555555555555556, \"#d8576b\"], [0.6666666666666666, \"#ed7953\"], [0.7777777777777778, \"#fb9f3a\"], [0.8888888888888888, \"#fdca26\"], [1.0, \"#f0f921\"]], \"type\": \"heatmapgl\"}], \"histogram\": [{\"marker\": {\"colorbar\": {\"outlinewidth\": 0, \"ticks\": \"\"}}, \"type\": \"histogram\"}], \"histogram2d\": [{\"colorbar\": {\"outlinewidth\": 0, \"ticks\": \"\"}, \"colorscale\": [[0.0, \"#0d0887\"], [0.1111111111111111, \"#46039f\"], [0.2222222222222222, \"#7201a8\"], [0.3333333333333333, \"#9c179e\"], [0.4444444444444444, \"#bd3786\"], [0.5555555555555556, \"#d8576b\"], [0.6666666666666666, \"#ed7953\"], [0.7777777777777778, \"#fb9f3a\"], [0.8888888888888888, \"#fdca26\"], [1.0, \"#f0f921\"]], \"type\": \"histogram2d\"}], \"histogram2dcontour\": [{\"colorbar\": {\"outlinewidth\": 0, \"ticks\": \"\"}, \"colorscale\": [[0.0, \"#0d0887\"], [0.1111111111111111, \"#46039f\"], [0.2222222222222222, \"#7201a8\"], [0.3333333333333333, \"#9c179e\"], [0.4444444444444444, \"#bd3786\"], [0.5555555555555556, \"#d8576b\"], [0.6666666666666666, \"#ed7953\"], [0.7777777777777778, \"#fb9f3a\"], [0.8888888888888888, \"#fdca26\"], [1.0, \"#f0f921\"]], \"type\": \"histogram2dcontour\"}], \"mesh3d\": [{\"colorbar\": {\"outlinewidth\": 0, \"ticks\": \"\"}, \"type\": \"mesh3d\"}], \"parcoords\": [{\"line\": {\"colorbar\": {\"outlinewidth\": 0, \"ticks\": \"\"}}, \"type\": \"parcoords\"}], \"pie\": [{\"automargin\": true, \"type\": \"pie\"}], \"scatter\": [{\"marker\": {\"colorbar\": {\"outlinewidth\": 0, \"ticks\": \"\"}}, \"type\": \"scatter\"}], \"scatter3d\": [{\"line\": {\"colorbar\": {\"outlinewidth\": 0, \"ticks\": \"\"}}, \"marker\": {\"colorbar\": {\"outlinewidth\": 0, \"ticks\": \"\"}}, \"type\": \"scatter3d\"}], \"scattercarpet\": [{\"marker\": {\"colorbar\": {\"outlinewidth\": 0, \"ticks\": \"\"}}, \"type\": \"scattercarpet\"}], \"scattergeo\": [{\"marker\": {\"colorbar\": {\"outlinewidth\": 0, \"ticks\": \"\"}}, \"type\": \"scattergeo\"}], \"scattergl\": [{\"marker\": {\"colorbar\": {\"outlinewidth\": 0, \"ticks\": \"\"}}, \"type\": \"scattergl\"}], \"scattermapbox\": [{\"marker\": {\"colorbar\": {\"outlinewidth\": 0, \"ticks\": \"\"}}, \"type\": \"scattermapbox\"}], \"scatterpolar\": [{\"marker\": {\"colorbar\": {\"outlinewidth\": 0, \"ticks\": \"\"}}, \"type\": \"scatterpolar\"}], \"scatterpolargl\": [{\"marker\": {\"colorbar\": {\"outlinewidth\": 0, \"ticks\": \"\"}}, \"type\": \"scatterpolargl\"}], \"scatterternary\": [{\"marker\": {\"colorbar\": {\"outlinewidth\": 0, \"ticks\": \"\"}}, \"type\": \"scatterternary\"}], \"surface\": [{\"colorbar\": {\"outlinewidth\": 0, \"ticks\": \"\"}, \"colorscale\": [[0.0, \"#0d0887\"], [0.1111111111111111, \"#46039f\"], [0.2222222222222222, \"#7201a8\"], [0.3333333333333333, \"#9c179e\"], [0.4444444444444444, \"#bd3786\"], [0.5555555555555556, \"#d8576b\"], [0.6666666666666666, \"#ed7953\"], [0.7777777777777778, \"#fb9f3a\"], [0.8888888888888888, \"#fdca26\"], [1.0, \"#f0f921\"]], \"type\": \"surface\"}], \"table\": [{\"cells\": {\"fill\": {\"color\": \"#EBF0F8\"}, \"line\": {\"color\": \"white\"}}, \"header\": {\"fill\": {\"color\": \"#C8D4E3\"}, \"line\": {\"color\": \"white\"}}, \"type\": \"table\"}]}, \"layout\": {\"annotationdefaults\": {\"arrowcolor\": \"#2a3f5f\", \"arrowhead\": 0, \"arrowwidth\": 1}, \"autotypenumbers\": \"strict\", \"coloraxis\": {\"colorbar\": {\"outlinewidth\": 0, \"ticks\": \"\"}}, \"colorscale\": {\"diverging\": [[0, \"#8e0152\"], [0.1, \"#c51b7d\"], [0.2, \"#de77ae\"], [0.3, \"#f1b6da\"], [0.4, \"#fde0ef\"], [0.5, \"#f7f7f7\"], [0.6, \"#e6f5d0\"], [0.7, \"#b8e186\"], [0.8, \"#7fbc41\"], [0.9, \"#4d9221\"], [1, \"#276419\"]], \"sequential\": [[0.0, \"#0d0887\"], [0.1111111111111111, \"#46039f\"], [0.2222222222222222, \"#7201a8\"], [0.3333333333333333, \"#9c179e\"], [0.4444444444444444, \"#bd3786\"], [0.5555555555555556, \"#d8576b\"], [0.6666666666666666, \"#ed7953\"], [0.7777777777777778, \"#fb9f3a\"], [0.8888888888888888, \"#fdca26\"], [1.0, \"#f0f921\"]], \"sequentialminus\": [[0.0, \"#0d0887\"], [0.1111111111111111, \"#46039f\"], [0.2222222222222222, \"#7201a8\"], [0.3333333333333333, \"#9c179e\"], [0.4444444444444444, \"#bd3786\"], [0.5555555555555556, \"#d8576b\"], [0.6666666666666666, \"#ed7953\"], [0.7777777777777778, \"#fb9f3a\"], [0.8888888888888888, \"#fdca26\"], [1.0, \"#f0f921\"]]}, \"colorway\": [\"#636efa\", \"#EF553B\", \"#00cc96\", \"#ab63fa\", \"#FFA15A\", \"#19d3f3\", \"#FF6692\", \"#B6E880\", \"#FF97FF\", \"#FECB52\"], \"font\": {\"color\": \"#2a3f5f\"}, \"geo\": {\"bgcolor\": \"white\", \"lakecolor\": \"white\", \"landcolor\": \"#E5ECF6\", \"showlakes\": true, \"showland\": true, \"subunitcolor\": \"white\"}, \"hoverlabel\": {\"align\": \"left\"}, \"hovermode\": \"closest\", \"mapbox\": {\"style\": \"light\"}, \"paper_bgcolor\": \"white\", \"plot_bgcolor\": \"#E5ECF6\", \"polar\": {\"angularaxis\": {\"gridcolor\": \"white\", \"linecolor\": \"white\", \"ticks\": \"\"}, \"bgcolor\": \"#E5ECF6\", \"radialaxis\": {\"gridcolor\": \"white\", \"linecolor\": \"white\", \"ticks\": \"\"}}, \"scene\": {\"xaxis\": {\"backgroundcolor\": \"#E5ECF6\", \"gridcolor\": \"white\", \"gridwidth\": 2, \"linecolor\": \"white\", \"showbackground\": true, \"ticks\": \"\", \"zerolinecolor\": \"white\"}, \"yaxis\": {\"backgroundcolor\": \"#E5ECF6\", \"gridcolor\": \"white\", \"gridwidth\": 2, \"linecolor\": \"white\", \"showbackground\": true, \"ticks\": \"\", \"zerolinecolor\": \"white\"}, \"zaxis\": {\"backgroundcolor\": \"#E5ECF6\", \"gridcolor\": \"white\", \"gridwidth\": 2, \"linecolor\": \"white\", \"showbackground\": true, \"ticks\": \"\", \"zerolinecolor\": \"white\"}}, \"shapedefaults\": {\"line\": {\"color\": \"#2a3f5f\"}}, \"ternary\": {\"aaxis\": {\"gridcolor\": \"white\", \"linecolor\": \"white\", \"ticks\": \"\"}, \"baxis\": {\"gridcolor\": \"white\", \"linecolor\": \"white\", \"ticks\": \"\"}, \"bgcolor\": \"#E5ECF6\", \"caxis\": {\"gridcolor\": \"white\", \"linecolor\": \"white\", \"ticks\": \"\"}}, \"title\": {\"x\": 0.05}, \"xaxis\": {\"automargin\": true, \"gridcolor\": \"white\", \"linecolor\": \"white\", \"ticks\": \"\", \"title\": {\"standoff\": 15}, \"zerolinecolor\": \"white\", \"zerolinewidth\": 2}, \"yaxis\": {\"automargin\": true, \"gridcolor\": \"white\", \"linecolor\": \"white\", \"ticks\": \"\", \"title\": {\"standoff\": 15}, \"zerolinecolor\": \"white\", \"zerolinewidth\": 2}}}, \"title\": {\"text\": \"\"}},                        {\"responsive\": true}                    ).then(function(){\n",
       "                            \n",
       "var gd = document.getElementById('9ae6a48e-9cd5-434d-8ca7-09317cf8c71e');\n",
       "var x = new MutationObserver(function (mutations, observer) {{\n",
       "        var display = window.getComputedStyle(gd).display;\n",
       "        if (!display || display === 'none') {{\n",
       "            console.log([gd, 'removed!']);\n",
       "            Plotly.purge(gd);\n",
       "            observer.disconnect();\n",
       "        }}\n",
       "}});\n",
       "\n",
       "// Listen for the removal of the full notebook cells\n",
       "var notebookContainer = gd.closest('#notebook-container');\n",
       "if (notebookContainer) {{\n",
       "    x.observe(notebookContainer, {childList: true});\n",
       "}}\n",
       "\n",
       "// Listen for the clearing of the current output cell\n",
       "var outputEl = gd.closest('.output');\n",
       "if (outputEl) {{\n",
       "    x.observe(outputEl, {childList: true});\n",
       "}}\n",
       "\n",
       "                        })                };                });            </script>        </div>"
      ]
     },
     "metadata": {},
     "output_type": "display_data"
    }
   ],
   "source": [
    "# Создадим таблицу сгруппированную по названию и месяцу оказания услуги\n",
    "qnt_service = data.groupby(['service_name', 'month'], as_index = False).agg({'client_id':'count'})\n",
    "\n",
    "# Посмотрим результат на графике\n",
    "trace = []\n",
    "\n",
    "for i in qnt_service.service_name.unique():\n",
    "    df_service = qnt_service.loc[qnt_service['service_name'] == i]\n",
    "    trace_loc = go.Scatter(x = df_service['month'], y = df_service['client_id'], name = i)\n",
    "    trace.append(trace_loc)\n",
    "    fig = go.Figure(data = trace, layout = go.Layout(title = ''))\n",
    "iplot(fig)"
   ]
  },
  {
   "cell_type": "markdown",
   "metadata": {},
   "source": [
    "**Вывод:**\n",
    "\n",
    "Как видно на графике, ситуация с предпочтениями клиентов по месяцам соответствует предпочтениям в каждой организации. Наибольшим спросом пользовались социально-правовые услуги, следом идут социально-экономические и социально-психологические. Явные всплески наблюдаются с февраля по апрель, что неудивительно т.к. после начала СВО многие люди начали обращаться за помощью к юристам, пытаться получить  материальные выплаты и психологическую помощь. Второй всплеск пришелся на сентябрь и октября, что связано с мобилизацией, где люди начали обращаться за теми же услугами, что и в начале года."
   ]
  },
  {
   "cell_type": "markdown",
   "metadata": {},
   "source": [
    "**Посмотрим, как обстоят дела с выручкой и затратами.**"
   ]
  },
  {
   "cell_type": "markdown",
   "metadata": {},
   "source": [
    "### Выручка и прибыль в разрезе огранизаций в 2022 году"
   ]
  },
  {
   "cell_type": "code",
   "execution_count": 26,
   "metadata": {
    "ExecuteTime": {
     "end_time": "2023-09-19T10:12:53.229505Z",
     "start_time": "2023-09-19T10:12:52.861618Z"
    }
   },
   "outputs": [
    {
     "data": {
      "text/html": [
       "<div>\n",
       "<style>\n",
       "    .dataframe thead tr:only-child th {\n",
       "        text-align: right;\n",
       "    }\n",
       "\n",
       "    .dataframe thead th {\n",
       "        text-align: left;\n",
       "    }\n",
       "\n",
       "    .dataframe tbody tr th {\n",
       "        vertical-align: top;\n",
       "    }\n",
       "</style>\n",
       "<table border=\"1\" class=\"dataframe\">\n",
       "  <thead>\n",
       "    <tr style=\"text-align: right;\">\n",
       "      <th></th>\n",
       "      <th>company_name</th>\n",
       "      <th>revenue</th>\n",
       "      <th>profit</th>\n",
       "    </tr>\n",
       "  </thead>\n",
       "  <tbody>\n",
       "    <tr>\n",
       "      <th>0</th>\n",
       "      <td>Социальная организация №1</td>\n",
       "      <td>6134557.7</td>\n",
       "      <td>1055300.6</td>\n",
       "    </tr>\n",
       "    <tr>\n",
       "      <th>4</th>\n",
       "      <td>Социальная организация №5</td>\n",
       "      <td>6118559.6</td>\n",
       "      <td>1396129.2</td>\n",
       "    </tr>\n",
       "    <tr>\n",
       "      <th>3</th>\n",
       "      <td>Социальная организация №4</td>\n",
       "      <td>5222680.8</td>\n",
       "      <td>1205234.0</td>\n",
       "    </tr>\n",
       "    <tr>\n",
       "      <th>1</th>\n",
       "      <td>Социальная организация №2</td>\n",
       "      <td>5127187.1</td>\n",
       "      <td>1025437.4</td>\n",
       "    </tr>\n",
       "    <tr>\n",
       "      <th>2</th>\n",
       "      <td>Социальная организация №3</td>\n",
       "      <td>4836475.2</td>\n",
       "      <td>1116109.7</td>\n",
       "    </tr>\n",
       "    <tr>\n",
       "      <th>5</th>\n",
       "      <td>Социальная организация №6</td>\n",
       "      <td>4710298.3</td>\n",
       "      <td>942059.7</td>\n",
       "    </tr>\n",
       "  </tbody>\n",
       "</table>\n",
       "</div>"
      ],
      "text/plain": [
       "                company_name    revenue     profit\n",
       "0  Социальная организация №1  6134557.7  1055300.6\n",
       "4  Социальная организация №5  6118559.6  1396129.2\n",
       "3  Социальная организация №4  5222680.8  1205234.0\n",
       "1  Социальная организация №2  5127187.1  1025437.4\n",
       "2  Социальная организация №3  4836475.2  1116109.7\n",
       "5  Социальная организация №6  4710298.3   942059.7"
      ]
     },
     "metadata": {},
     "output_type": "display_data"
    },
    {
     "data": {
      "image/png": "[encoded data removed]",
      "text/plain": [
       "<matplotlib.figure.Figure at 0x129a25908>"
      ]
     },
     "metadata": {},
     "output_type": "display_data"
    }
   ],
   "source": [
    "# Посчитаем выручку по каждой услуге\n",
    "data['revenue'] = data['costs'] * data['rate']\n",
    "\n",
    "# Создадим колонку с прибылью по каждой услуге\n",
    "data['profit'] = data['revenue'] - data['costs']\n",
    "\n",
    "# Создадим табличку с размером выручки и прибыли в разрезе организаций\n",
    "amount = data.groupby('company_name').agg({'revenue':'sum', 'profit':'sum'})\n",
    "\n",
    "# Посмотрим результатм\n",
    "display(amount.reset_index().sort_values('revenue', ascending = False).round(1))\n",
    "\n",
    "# Посмотрим результаты на круговой диаграмме\n",
    "plt.rcParams[\"figure.figsize\"] = [12, 5]\n",
    "\n",
    "ax = plt.subplot(1,2,1)\n",
    "\n",
    "plt.pie(amount['revenue'], labels = qnt_company.index, autopct='%1.f%%',\\\n",
    "        explode = (0.05, 0.05, 0.05, 0.05, 0.05, 0.05), shadow = True)\n",
    "ax.set_title('Доля выручки социальных организаций в 2022 году', fontsize = 11, weight = 'extra bold')\n",
    "\n",
    "ax1 = plt.subplot(1,2,2)\n",
    "plt.pie(amount['profit'], labels = qnt_company.index, autopct='%1.f%%',\\\n",
    "        explode = (0.05, 0.05, 0.05, 0.05, 0.05, 0.05), shadow = True)\n",
    "ax1.set_title('Доля прибыли социальных организаций в 2022 году', fontsize = 11, weight = 'extra bold')\n",
    "\n",
    "plt.subplots_adjust(wspace=0.5, hspace=0.5)\n",
    "plt.show()"
   ]
  },
  {
   "cell_type": "markdown",
   "metadata": {},
   "source": [
    "**Вывод:**\n",
    "\n",
    "На графике видно, что явными лидерами по выручке являются социальная организация №1 и №5, однако, если мы посмотрим на прибыль, которую получают организации, то видно, что социальная организация №1 не входит даже в топ 3 самых прибыльных организаций, которыми являются социальные организации №5, №4 и №3.\n",
    "\n",
    "**Посмотрим среднюю прибыль c клиента в разрезе организаций**"
   ]
  },
  {
   "cell_type": "markdown",
   "metadata": {
    "ExecuteTime": {
     "end_time": "2023-09-15T07:24:49.431567Z",
     "start_time": "2023-09-15T07:24:49.416665Z"
    }
   },
   "source": [
    "### Средняя прибыль с клиента в разрезе организаций в 2022 году"
   ]
  },
  {
   "cell_type": "code",
   "execution_count": 27,
   "metadata": {
    "ExecuteTime": {
     "end_time": "2023-09-19T10:12:53.504202Z",
     "start_time": "2023-09-19T10:12:53.233375Z"
    }
   },
   "outputs": [
    {
     "data": {
      "text/html": [
       "<div>\n",
       "<style>\n",
       "    .dataframe thead tr:only-child th {\n",
       "        text-align: right;\n",
       "    }\n",
       "\n",
       "    .dataframe thead th {\n",
       "        text-align: left;\n",
       "    }\n",
       "\n",
       "    .dataframe tbody tr th {\n",
       "        vertical-align: top;\n",
       "    }\n",
       "</style>\n",
       "<table border=\"1\" class=\"dataframe\">\n",
       "  <thead>\n",
       "    <tr style=\"text-align: right;\">\n",
       "      <th></th>\n",
       "      <th>company_name</th>\n",
       "      <th>profit_per_client</th>\n",
       "    </tr>\n",
       "  </thead>\n",
       "  <tbody>\n",
       "    <tr>\n",
       "      <th>4</th>\n",
       "      <td>Социальная организация №5</td>\n",
       "      <td>3216.89</td>\n",
       "    </tr>\n",
       "    <tr>\n",
       "      <th>2</th>\n",
       "      <td>Социальная организация №3</td>\n",
       "      <td>3198.02</td>\n",
       "    </tr>\n",
       "    <tr>\n",
       "      <th>3</th>\n",
       "      <td>Социальная организация №4</td>\n",
       "      <td>3180.04</td>\n",
       "    </tr>\n",
       "    <tr>\n",
       "      <th>1</th>\n",
       "      <td>Социальная организация №2</td>\n",
       "      <td>2741.81</td>\n",
       "    </tr>\n",
       "    <tr>\n",
       "      <th>5</th>\n",
       "      <td>Социальная организация №6</td>\n",
       "      <td>2631.45</td>\n",
       "    </tr>\n",
       "    <tr>\n",
       "      <th>0</th>\n",
       "      <td>Социальная организация №1</td>\n",
       "      <td>2212.37</td>\n",
       "    </tr>\n",
       "  </tbody>\n",
       "</table>\n",
       "</div>"
      ],
      "text/plain": [
       "                company_name  profit_per_client\n",
       "4  Социальная организация №5            3216.89\n",
       "2  Социальная организация №3            3198.02\n",
       "3  Социальная организация №4            3180.04\n",
       "1  Социальная организация №2            2741.81\n",
       "5  Социальная организация №6            2631.45\n",
       "0  Социальная организация №1            2212.37"
      ]
     },
     "metadata": {},
     "output_type": "display_data"
    },
    {
     "data": {
      "image/png": "[encoded data removed]",
      "text/plain": [
       "<matplotlib.figure.Figure at 0x127e16ac8>"
      ]
     },
     "metadata": {},
     "output_type": "display_data"
    }
   ],
   "source": [
    "# Создадим таблицу с кол-во уникальных клиентов и кол-во услуг\n",
    "avg_money = data.groupby('company_name', as_index = False)\\\n",
    ".agg({'revenue':'sum', 'profit':'sum','client_id':'nunique' })\n",
    "\n",
    "# Посчитаем среднее количество услуг на клиента\n",
    "avg_money['revenue_per_client'] = round(avg_money['revenue'] / avg_money['client_id'], 2)\n",
    "\n",
    "# Посчитаем среднее количество услуг на клиента\n",
    "avg_money['profit_per_client'] = round(avg_money['profit'] / avg_money['client_id'],2)\n",
    "\n",
    "\n",
    "# Посмотрим среднюю прибыль на клиента\n",
    "display(avg_money.sort_values('profit_per_client', ascending = False)[['company_name','profit_per_client']])\n",
    "\n",
    "\n",
    "# Посмотрим на графике полученный результат\n",
    "avg_money\\\n",
    ".sort_values('revenue_per_client', ascending = False)\\\n",
    ".plot(x ='company_name', \n",
    "      y = 'profit_per_client', \n",
    "      kind = 'barh', \n",
    "      grid = True,\n",
    "      legend = False,\n",
    "      figsize = (12,4))\n",
    "\n",
    "plt.ylabel('Название организации')\n",
    "plt.title('Средняя прибыль с клиента в разрезе организаций в 2022 году',\n",
    "          fontsize = 13, weight = 'extra bold', y = 1.05)\n",
    "\n",
    "plt.show()"
   ]
  },
  {
   "cell_type": "markdown",
   "metadata": {},
   "source": [
    "**Вывод:**\n",
    "\n",
    "Средняя прибыль с клиента является одним из ключевых индикаторов успешности бизнеса наравне с количеством привлеченных клиентов. Если мы посмотрим на график, то увидим, что больше всех с одного клиента зарабатывает социальная организация №5, рядом расположились социальная организация №3 и №4, а социальная организация №1 имеющая наибольшее количество клиентов - расположилась на последнем месте.\n",
    "\n",
    "**Посмотрим в динамике по месяцам, как менялась картина.**"
   ]
  },
  {
   "cell_type": "markdown",
   "metadata": {},
   "source": [
    "### Динамика выручки/прибыли в разрезе организаций в 2022 году"
   ]
  },
  {
   "cell_type": "code",
   "execution_count": 28,
   "metadata": {
    "ExecuteTime": {
     "end_time": "2023-09-19T10:12:54.078364Z",
     "start_time": "2023-09-19T10:12:53.507918Z"
    }
   },
   "outputs": [
    {
     "data": {
      "image/png": "[encoded data removed]",
      "text/plain": [
       "<matplotlib.figure.Figure at 0x126f9cd68>"
      ]
     },
     "metadata": {},
     "output_type": "display_data"
    }
   ],
   "source": [
    "# Посчитаем выручку по каждой услуге\n",
    "data['revenue'] = data['costs'] * data['rate']\n",
    "\n",
    "# Создадим колонку с прибылью по каждой услуге\n",
    "data['profit'] = data['revenue'] - data['costs']\n",
    "\n",
    "\n",
    "# Посмотрим динамику выручки и прибыли по месяцам в разрезе организаций\n",
    "plt.figure(figsize=(23, 7))\n",
    "\n",
    "ax = plt.subplot(1, 2, 1)\n",
    "data.pivot_table(index = 'month', \n",
    "                 columns = 'company_name', \n",
    "                 values = 'revenue', \n",
    "                 aggfunc = 'sum').plot(ax=ax)\n",
    "ax.grid (axis='y')\n",
    "plt.xlabel('Месяц')\n",
    "plt.ylabel('Выручка')\n",
    "plt.title('Динамика выручки по месяцам в разрезе организаций за 2022 год', fontsize = 14, weight = 'extra bold', y = 1.05)\n",
    "\n",
    "ax1 = plt.subplot(1, 2, 2)\n",
    "data.pivot_table(index = 'month', \n",
    "                 columns = 'company_name', \n",
    "                 values = 'profit', \n",
    "                 aggfunc = 'sum').plot(legend=False, ax=ax1)\n",
    "ax1.grid (axis='y')\n",
    "plt.xlabel('Месяц')\n",
    "plt.ylabel('Прибыль')\n",
    "plt.title('Динамика прибыли по месяцам в разрезе организаций за 2022 год', fontsize = 14, weight = 'extra bold', y = 1.05)\n",
    "plt.show()"
   ]
  },
  {
   "cell_type": "markdown",
   "metadata": {},
   "source": [
    "**Вывод:**\n",
    "\n",
    "На графике видно, что повторяется ситуация с количеством клиентов и услуг, где лидерами по выручке являются социальные организации №5 и 1, а по прибыли социальные организации №5,4 и 3. Однако, стоит отметить, что социальная организация №5 имела более стабильный поток прибыли летом в отличии от остальных.\n",
    "\n",
    "**Посмотрим, за счет каких услуг больше всего зарабатывают социальные организации.**"
   ]
  },
  {
   "cell_type": "markdown",
   "metadata": {
    "ExecuteTime": {
     "end_time": "2023-09-15T07:27:42.465596Z",
     "start_time": "2023-09-15T07:27:42.461680Z"
    }
   },
   "source": [
    "### Прибыльность услуг в разрезе организаций в 2022 году"
   ]
  },
  {
   "cell_type": "code",
   "execution_count": 29,
   "metadata": {
    "ExecuteTime": {
     "end_time": "2023-09-19T10:12:55.342243Z",
     "start_time": "2023-09-19T10:12:54.081329Z"
    }
   },
   "outputs": [
    {
     "data": {
      "text/html": [
       "<div>\n",
       "<style>\n",
       "    .dataframe thead tr:only-child th {\n",
       "        text-align: right;\n",
       "    }\n",
       "\n",
       "    .dataframe thead th {\n",
       "        text-align: left;\n",
       "    }\n",
       "\n",
       "    .dataframe tbody tr th {\n",
       "        vertical-align: top;\n",
       "    }\n",
       "</style>\n",
       "<table border=\"1\" class=\"dataframe\">\n",
       "  <thead>\n",
       "    <tr style=\"text-align: right;\">\n",
       "      <th></th>\n",
       "      <th>service_name</th>\n",
       "      <th>profit</th>\n",
       "    </tr>\n",
       "  </thead>\n",
       "  <tbody>\n",
       "    <tr>\n",
       "      <th>0</th>\n",
       "      <td>Социально-медицинские</td>\n",
       "      <td>374.7</td>\n",
       "    </tr>\n",
       "    <tr>\n",
       "      <th>1</th>\n",
       "      <td>Социально-бытовые</td>\n",
       "      <td>271.4</td>\n",
       "    </tr>\n",
       "    <tr>\n",
       "      <th>2</th>\n",
       "      <td>Социально-правовые</td>\n",
       "      <td>204.7</td>\n",
       "    </tr>\n",
       "    <tr>\n",
       "      <th>3</th>\n",
       "      <td>Социально-экономические</td>\n",
       "      <td>173.6</td>\n",
       "    </tr>\n",
       "    <tr>\n",
       "      <th>4</th>\n",
       "      <td>Социально-психологические</td>\n",
       "      <td>163.3</td>\n",
       "    </tr>\n",
       "  </tbody>\n",
       "</table>\n",
       "</div>"
      ],
      "text/plain": [
       "                service_name  profit\n",
       "0      Социально-медицинские   374.7\n",
       "1          Социально-бытовые   271.4\n",
       "2         Социально-правовые   204.7\n",
       "3    Социально-экономические   173.6\n",
       "4  Социально-психологические   163.3"
      ]
     },
     "metadata": {},
     "output_type": "display_data"
    },
    {
     "data": {
      "image/png": "[encoded data removed]",
      "text/plain": [
       "<matplotlib.figure.Figure at 0x126f9c710>"
      ]
     },
     "metadata": {},
     "output_type": "display_data"
    }
   ],
   "source": [
    "# Посмотрим какие услуги приносят больше всего прибыли в каждой организации\n",
    "company_profit = data.pivot_table(index = 'service_name', \n",
    "                                   columns = 'company_name', values = 'profit', aggfunc = 'mean')\n",
    "\n",
    "# Посмотрим среднюю прибыльность услуг в 2022 году\n",
    "display(data.pivot_table(index = 'service_name', values = 'profit', aggfunc = 'mean')\\\n",
    "       .sort_values('profit', ascending = False).reset_index().round(1))\n",
    "\n",
    "\n",
    "company_profit.plot(subplots = True,\n",
    "           layout = (3,3),    \n",
    "           kind = 'barh',      \n",
    "           figsize = (18,14),   \n",
    "           sharey = True,     \n",
    "           legend = False,    \n",
    "           rot = 0)\n",
    "\n",
    "plt.subplots_adjust(wspace=0.2, hspace=0.2)\n",
    "plt.show()"
   ]
  },
  {
   "cell_type": "markdown",
   "metadata": {
    "ExecuteTime": {
     "end_time": "2023-09-14T15:55:02.214457Z",
     "start_time": "2023-09-14T15:55:02.201428Z"
    },
    "collapsed": true
   },
   "source": [
    "**Вывод:**\n",
    "\n",
    "По графикам видно, что в структуре прибыли каждой организации в основном преобдалают социально-медицинские и социально-бытовые услуги. Однако, стоит обратить внимание на тот факт, что самыми популярными услугами все же являются социально-правовые, социально-экономические и социально-психологические.\n",
    "\n",
    "**Посмотрим, какие услуги приносили больше всего прибыли в каждый месяц.**"
   ]
  },
  {
   "cell_type": "markdown",
   "metadata": {
    "ExecuteTime": {
     "end_time": "2023-09-15T07:39:27.456606Z",
     "start_time": "2023-09-15T07:39:27.451684Z"
    }
   },
   "source": [
    "### Прибыльность услуг по месяцам"
   ]
  },
  {
   "cell_type": "code",
   "execution_count": 30,
   "metadata": {
    "ExecuteTime": {
     "end_time": "2023-09-19T10:12:55.442742Z",
     "start_time": "2023-09-19T10:12:55.345696Z"
    }
   },
   "outputs": [
    {
     "data": {
      "application/vnd.plotly.v1+json": {
       "config": {
        "linkText": "Export to plot.ly",
        "plotlyServerURL": "https://plot.ly",
        "showLink": false
       },
       "data": [
        {
         "name": "Социально-бытовые",
         "type": "scatter",
         "x": [
          "2022-01-01T00:00:00",
          "2022-02-01T00:00:00",
          "2022-03-01T00:00:00",
          "2022-04-01T00:00:00",
          "2022-05-01T00:00:00",
          "2022-06-01T00:00:00",
          "2022-07-01T00:00:00",
          "2022-08-01T00:00:00",
          "2022-09-01T00:00:00",
          "2022-10-01T00:00:00",
          "2022-11-01T00:00:00",
          "2022-12-01T00:00:00"
         ],
         "y": [
          99233.91000000019,
          85832.21700000005,
          94476.82050000018,
          87213.3075000001,
          112021.78500000031,
          106906.63500000029,
          100819.60650000017,
          105781.30200000027,
          92993.42700000016,
          90333.54900000017,
          94988.33550000016,
          129617.90100000046
         ]
        },
        {
         "name": "Социально-медицинские",
         "type": "scatter",
         "x": [
          "2022-01-01T00:00:00",
          "2022-02-01T00:00:00",
          "2022-03-01T00:00:00",
          "2022-04-01T00:00:00",
          "2022-05-01T00:00:00",
          "2022-06-01T00:00:00",
          "2022-07-01T00:00:00",
          "2022-08-01T00:00:00",
          "2022-09-01T00:00:00",
          "2022-10-01T00:00:00",
          "2022-11-01T00:00:00",
          "2022-12-01T00:00:00"
         ],
         "y": [
          141732.1350000008,
          133058.97450000068,
          134680.7850000007,
          136302.59550000072,
          160629.75300000107,
          143283.43200000082,
          152309.16000000093,
          138629.54100000075,
          131296.1370000007,
          138276.97350000078,
          136655.16300000076,
          153225.83550000095
         ]
        },
        {
         "name": "Социально-правовые",
         "type": "scatter",
         "x": [
          "2022-01-01T00:00:00",
          "2022-02-01T00:00:00",
          "2022-03-01T00:00:00",
          "2022-04-01T00:00:00",
          "2022-05-01T00:00:00",
          "2022-06-01T00:00:00",
          "2022-07-01T00:00:00",
          "2022-08-01T00:00:00",
          "2022-09-01T00:00:00",
          "2022-10-01T00:00:00",
          "2022-11-01T00:00:00",
          "2022-12-01T00:00:00"
         ],
         "y": [
          96328.01749999908,
          149256.3474999987,
          160983.9074999988,
          162951.35999999888,
          122097.78749999871,
          105200.84249999897,
          98025.42749999907,
          104737.91249999897,
          157087.5799999987,
          165111.6999999988,
          159479.38499999887,
          135484.1799999986
         ]
        },
        {
         "name": "Социально-психологические",
         "type": "scatter",
         "x": [
          "2022-01-01T00:00:00",
          "2022-02-01T00:00:00",
          "2022-03-01T00:00:00",
          "2022-04-01T00:00:00",
          "2022-05-01T00:00:00",
          "2022-06-01T00:00:00",
          "2022-07-01T00:00:00",
          "2022-08-01T00:00:00",
          "2022-09-01T00:00:00",
          "2022-10-01T00:00:00",
          "2022-11-01T00:00:00",
          "2022-12-01T00:00:00"
         ],
         "y": [
          72465.9650000002,
          89344.97000000041,
          96108.87000000052,
          106070.25000000055,
          78030.81000000025,
          68499.86000000019,
          75294.50500000024,
          71943.30000000018,
          94909.8150000005,
          96754.5150000005,
          98199.53000000054,
          92634.68500000043
         ]
        },
        {
         "name": "Социально-экономические",
         "type": "scatter",
         "x": [
          "2022-01-01T00:00:00",
          "2022-02-01T00:00:00",
          "2022-03-01T00:00:00",
          "2022-04-01T00:00:00",
          "2022-05-01T00:00:00",
          "2022-06-01T00:00:00",
          "2022-07-01T00:00:00",
          "2022-08-01T00:00:00",
          "2022-09-01T00:00:00",
          "2022-10-01T00:00:00",
          "2022-11-01T00:00:00",
          "2022-12-01T00:00:00"
         ],
         "y": [
          79453.44,
          111497.47199999992,
          111563.13599999975,
          113730.04799999986,
          91305.79199999997,
          86413.8239999999,
          83032.12799999997,
          80602.56000000006,
          104569.91999999987,
          103617.7919999999,
          110939.32799999989,
          106244.35199999991
         ]
        }
       ],
       "layout": {
        "template": {
         "data": {
          "bar": [
           {
            "error_x": {
             "color": "#2a3f5f"
            },
            "error_y": {
             "color": "#2a3f5f"
            },
            "marker": {
             "line": {
              "color": "#E5ECF6",
              "width": 0.5
             }
            },
            "type": "bar"
           }
          ],
          "barpolar": [
           {
            "marker": {
             "line": {
              "color": "#E5ECF6",
              "width": 0.5
             }
            },
            "type": "barpolar"
           }
          ],
          "carpet": [
           {
            "aaxis": {
             "endlinecolor": "#2a3f5f",
             "gridcolor": "white",
             "linecolor": "white",
             "minorgridcolor": "white",
             "startlinecolor": "#2a3f5f"
            },
            "baxis": {
             "endlinecolor": "#2a3f5f",
             "gridcolor": "white",
             "linecolor": "white",
             "minorgridcolor": "white",
             "startlinecolor": "#2a3f5f"
            },
            "type": "carpet"
           }
          ],
          "choropleth": [
           {
            "colorbar": {
             "outlinewidth": 0,
             "ticks": ""
            },
            "type": "choropleth"
           }
          ],
          "contour": [
           {
            "colorbar": {
             "outlinewidth": 0,
             "ticks": ""
            },
            "colorscale": [
             [
              0,
              "#0d0887"
             ],
             [
              0.1111111111111111,
              "#46039f"
             ],
             [
              0.2222222222222222,
              "#7201a8"
             ],
             [
              0.3333333333333333,
              "#9c179e"
             ],
             [
              0.4444444444444444,
              "#bd3786"
             ],
             [
              0.5555555555555556,
              "#d8576b"
             ],
             [
              0.6666666666666666,
              "#ed7953"
             ],
             [
              0.7777777777777778,
              "#fb9f3a"
             ],
             [
              0.8888888888888888,
              "#fdca26"
             ],
             [
              1,
              "#f0f921"
             ]
            ],
            "type": "contour"
           }
          ],
          "contourcarpet": [
           {
            "colorbar": {
             "outlinewidth": 0,
             "ticks": ""
            },
            "type": "contourcarpet"
           }
          ],
          "heatmap": [
           {
            "colorbar": {
             "outlinewidth": 0,
             "ticks": ""
            },
            "colorscale": [
             [
              0,
              "#0d0887"
             ],
             [
              0.1111111111111111,
              "#46039f"
             ],
             [
              0.2222222222222222,
              "#7201a8"
             ],
             [
              0.3333333333333333,
              "#9c179e"
             ],
             [
              0.4444444444444444,
              "#bd3786"
             ],
             [
              0.5555555555555556,
              "#d8576b"
             ],
             [
              0.6666666666666666,
              "#ed7953"
             ],
             [
              0.7777777777777778,
              "#fb9f3a"
             ],
             [
              0.8888888888888888,
              "#fdca26"
             ],
             [
              1,
              "#f0f921"
             ]
            ],
            "type": "heatmap"
           }
          ],
          "heatmapgl": [
           {
            "colorbar": {
             "outlinewidth": 0,
             "ticks": ""
            },
            "colorscale": [
             [
              0,
              "#0d0887"
             ],
             [
              0.1111111111111111,
              "#46039f"
             ],
             [
              0.2222222222222222,
              "#7201a8"
             ],
             [
              0.3333333333333333,
              "#9c179e"
             ],
             [
              0.4444444444444444,
              "#bd3786"
             ],
             [
              0.5555555555555556,
              "#d8576b"
             ],
             [
              0.6666666666666666,
              "#ed7953"
             ],
             [
              0.7777777777777778,
              "#fb9f3a"
             ],
             [
              0.8888888888888888,
              "#fdca26"
             ],
             [
              1,
              "#f0f921"
             ]
            ],
            "type": "heatmapgl"
           }
          ],
          "histogram": [
           {
            "marker": {
             "colorbar": {
              "outlinewidth": 0,
              "ticks": ""
             }
            },
            "type": "histogram"
           }
          ],
          "histogram2d": [
           {
            "colorbar": {
             "outlinewidth": 0,
             "ticks": ""
            },
            "colorscale": [
             [
              0,
              "#0d0887"
             ],
             [
              0.1111111111111111,
              "#46039f"
             ],
             [
              0.2222222222222222,
              "#7201a8"
             ],
             [
              0.3333333333333333,
              "#9c179e"
             ],
             [
              0.4444444444444444,
              "#bd3786"
             ],
             [
              0.5555555555555556,
              "#d8576b"
             ],
             [
              0.6666666666666666,
              "#ed7953"
             ],
             [
              0.7777777777777778,
              "#fb9f3a"
             ],
             [
              0.8888888888888888,
              "#fdca26"
             ],
             [
              1,
              "#f0f921"
             ]
            ],
            "type": "histogram2d"
           }
          ],
          "histogram2dcontour": [
           {
            "colorbar": {
             "outlinewidth": 0,
             "ticks": ""
            },
            "colorscale": [
             [
              0,
              "#0d0887"
             ],
             [
              0.1111111111111111,
              "#46039f"
             ],
             [
              0.2222222222222222,
              "#7201a8"
             ],
             [
              0.3333333333333333,
              "#9c179e"
             ],
             [
              0.4444444444444444,
              "#bd3786"
             ],
             [
              0.5555555555555556,
              "#d8576b"
             ],
             [
              0.6666666666666666,
              "#ed7953"
             ],
             [
              0.7777777777777778,
              "#fb9f3a"
             ],
             [
              0.8888888888888888,
              "#fdca26"
             ],
             [
              1,
              "#f0f921"
             ]
            ],
            "type": "histogram2dcontour"
           }
          ],
          "mesh3d": [
           {
            "colorbar": {
             "outlinewidth": 0,
             "ticks": ""
            },
            "type": "mesh3d"
           }
          ],
          "parcoords": [
           {
            "line": {
             "colorbar": {
              "outlinewidth": 0,
              "ticks": ""
             }
            },
            "type": "parcoords"
           }
          ],
          "pie": [
           {
            "automargin": true,
            "type": "pie"
           }
          ],
          "scatter": [
           {
            "marker": {
             "colorbar": {
              "outlinewidth": 0,
              "ticks": ""
             }
            },
            "type": "scatter"
           }
          ],
          "scatter3d": [
           {
            "line": {
             "colorbar": {
              "outlinewidth": 0,
              "ticks": ""
             }
            },
            "marker": {
             "colorbar": {
              "outlinewidth": 0,
              "ticks": ""
             }
            },
            "type": "scatter3d"
           }
          ],
          "scattercarpet": [
           {
            "marker": {
             "colorbar": {
              "outlinewidth": 0,
              "ticks": ""
             }
            },
            "type": "scattercarpet"
           }
          ],
          "scattergeo": [
           {
            "marker": {
             "colorbar": {
              "outlinewidth": 0,
              "ticks": ""
             }
            },
            "type": "scattergeo"
           }
          ],
          "scattergl": [
           {
            "marker": {
             "colorbar": {
              "outlinewidth": 0,
              "ticks": ""
             }
            },
            "type": "scattergl"
           }
          ],
          "scattermapbox": [
           {
            "marker": {
             "colorbar": {
              "outlinewidth": 0,
              "ticks": ""
             }
            },
            "type": "scattermapbox"
           }
          ],
          "scatterpolar": [
           {
            "marker": {
             "colorbar": {
              "outlinewidth": 0,
              "ticks": ""
             }
            },
            "type": "scatterpolar"
           }
          ],
          "scatterpolargl": [
           {
            "marker": {
             "colorbar": {
              "outlinewidth": 0,
              "ticks": ""
             }
            },
            "type": "scatterpolargl"
           }
          ],
          "scatterternary": [
           {
            "marker": {
             "colorbar": {
              "outlinewidth": 0,
              "ticks": ""
             }
            },
            "type": "scatterternary"
           }
          ],
          "surface": [
           {
            "colorbar": {
             "outlinewidth": 0,
             "ticks": ""
            },
            "colorscale": [
             [
              0,
              "#0d0887"
             ],
             [
              0.1111111111111111,
              "#46039f"
             ],
             [
              0.2222222222222222,
              "#7201a8"
             ],
             [
              0.3333333333333333,
              "#9c179e"
             ],
             [
              0.4444444444444444,
              "#bd3786"
             ],
             [
              0.5555555555555556,
              "#d8576b"
             ],
             [
              0.6666666666666666,
              "#ed7953"
             ],
             [
              0.7777777777777778,
              "#fb9f3a"
             ],
             [
              0.8888888888888888,
              "#fdca26"
             ],
             [
              1,
              "#f0f921"
             ]
            ],
            "type": "surface"
           }
          ],
          "table": [
           {
            "cells": {
             "fill": {
              "color": "#EBF0F8"
             },
             "line": {
              "color": "white"
             }
            },
            "header": {
             "fill": {
              "color": "#C8D4E3"
             },
             "line": {
              "color": "white"
             }
            },
            "type": "table"
           }
          ]
         },
         "layout": {
          "annotationdefaults": {
           "arrowcolor": "#2a3f5f",
           "arrowhead": 0,
           "arrowwidth": 1
          },
          "autotypenumbers": "strict",
          "coloraxis": {
           "colorbar": {
            "outlinewidth": 0,
            "ticks": ""
           }
          },
          "colorscale": {
           "diverging": [
            [
             0,
             "#8e0152"
            ],
            [
             0.1,
             "#c51b7d"
            ],
            [
             0.2,
             "#de77ae"
            ],
            [
             0.3,
             "#f1b6da"
            ],
            [
             0.4,
             "#fde0ef"
            ],
            [
             0.5,
             "#f7f7f7"
            ],
            [
             0.6,
             "#e6f5d0"
            ],
            [
             0.7,
             "#b8e186"
            ],
            [
             0.8,
             "#7fbc41"
            ],
            [
             0.9,
             "#4d9221"
            ],
            [
             1,
             "#276419"
            ]
           ],
           "sequential": [
            [
             0,
             "#0d0887"
            ],
            [
             0.1111111111111111,
             "#46039f"
            ],
            [
             0.2222222222222222,
             "#7201a8"
            ],
            [
             0.3333333333333333,
             "#9c179e"
            ],
            [
             0.4444444444444444,
             "#bd3786"
            ],
            [
             0.5555555555555556,
             "#d8576b"
            ],
            [
             0.6666666666666666,
             "#ed7953"
            ],
            [
             0.7777777777777778,
             "#fb9f3a"
            ],
            [
             0.8888888888888888,
             "#fdca26"
            ],
            [
             1,
             "#f0f921"
            ]
           ],
           "sequentialminus": [
            [
             0,
             "#0d0887"
            ],
            [
             0.1111111111111111,
             "#46039f"
            ],
            [
             0.2222222222222222,
             "#7201a8"
            ],
            [
             0.3333333333333333,
             "#9c179e"
            ],
            [
             0.4444444444444444,
             "#bd3786"
            ],
            [
             0.5555555555555556,
             "#d8576b"
            ],
            [
             0.6666666666666666,
             "#ed7953"
            ],
            [
             0.7777777777777778,
             "#fb9f3a"
            ],
            [
             0.8888888888888888,
             "#fdca26"
            ],
            [
             1,
             "#f0f921"
            ]
           ]
          },
          "colorway": [
           "#636efa",
           "#EF553B",
           "#00cc96",
           "#ab63fa",
           "#FFA15A",
           "#19d3f3",
           "#FF6692",
           "#B6E880",
           "#FF97FF",
           "#FECB52"
          ],
          "font": {
           "color": "#2a3f5f"
          },
          "geo": {
           "bgcolor": "white",
           "lakecolor": "white",
           "landcolor": "#E5ECF6",
           "showlakes": true,
           "showland": true,
           "subunitcolor": "white"
          },
          "hoverlabel": {
           "align": "left"
          },
          "hovermode": "closest",
          "mapbox": {
           "style": "light"
          },
          "paper_bgcolor": "white",
          "plot_bgcolor": "#E5ECF6",
          "polar": {
           "angularaxis": {
            "gridcolor": "white",
            "linecolor": "white",
            "ticks": ""
           },
           "bgcolor": "#E5ECF6",
           "radialaxis": {
            "gridcolor": "white",
            "linecolor": "white",
            "ticks": ""
           }
          },
          "scene": {
           "xaxis": {
            "backgroundcolor": "#E5ECF6",
            "gridcolor": "white",
            "gridwidth": 2,
            "linecolor": "white",
            "showbackground": true,
            "ticks": "",
            "zerolinecolor": "white"
           },
           "yaxis": {
            "backgroundcolor": "#E5ECF6",
            "gridcolor": "white",
            "gridwidth": 2,
            "linecolor": "white",
            "showbackground": true,
            "ticks": "",
            "zerolinecolor": "white"
           },
           "zaxis": {
            "backgroundcolor": "#E5ECF6",
            "gridcolor": "white",
            "gridwidth": 2,
            "linecolor": "white",
            "showbackground": true,
            "ticks": "",
            "zerolinecolor": "white"
           }
          },
          "shapedefaults": {
           "line": {
            "color": "#2a3f5f"
           }
          },
          "ternary": {
           "aaxis": {
            "gridcolor": "white",
            "linecolor": "white",
            "ticks": ""
           },
           "baxis": {
            "gridcolor": "white",
            "linecolor": "white",
            "ticks": ""
           },
           "bgcolor": "#E5ECF6",
           "caxis": {
            "gridcolor": "white",
            "linecolor": "white",
            "ticks": ""
           }
          },
          "title": {
           "x": 0.05
          },
          "xaxis": {
           "automargin": true,
           "gridcolor": "white",
           "linecolor": "white",
           "ticks": "",
           "title": {
            "standoff": 15
           },
           "zerolinecolor": "white",
           "zerolinewidth": 2
          },
          "yaxis": {
           "automargin": true,
           "gridcolor": "white",
           "linecolor": "white",
           "ticks": "",
           "title": {
            "standoff": 15
           },
           "zerolinecolor": "white",
           "zerolinewidth": 2
          }
         }
        },
        "title": {
         "text": ""
        }
       }
      },
      "text/html": [
       "<div>                            <div id=\"c074475d-21dd-4155-b455-a13633786d29\" class=\"plotly-graph-div\" style=\"height:525px; width:100%;\"></div>            <script type=\"text/javascript\">                require([\"plotly\"], function(Plotly) {                    window.PLOTLYENV=window.PLOTLYENV || {};                                    if (document.getElementById(\"c074475d-21dd-4155-b455-a13633786d29\")) {                    Plotly.newPlot(                        \"c074475d-21dd-4155-b455-a13633786d29\",                        [{\"name\": \"\\u0421\\u043e\\u0446\\u0438\\u0430\\u043b\\u044c\\u043d\\u043e-\\u0431\\u044b\\u0442\\u043e\\u0432\\u044b\\u0435\", \"type\": \"scatter\", \"x\": [\"2022-01-01T00:00:00\", \"2022-02-01T00:00:00\", \"2022-03-01T00:00:00\", \"2022-04-01T00:00:00\", \"2022-05-01T00:00:00\", \"2022-06-01T00:00:00\", \"2022-07-01T00:00:00\", \"2022-08-01T00:00:00\", \"2022-09-01T00:00:00\", \"2022-10-01T00:00:00\", \"2022-11-01T00:00:00\", \"2022-12-01T00:00:00\"], \"y\": [99233.91000000019, 85832.21700000005, 94476.82050000018, 87213.3075000001, 112021.78500000031, 106906.63500000029, 100819.60650000017, 105781.30200000027, 92993.42700000016, 90333.54900000017, 94988.33550000016, 129617.90100000046]}, {\"name\": \"\\u0421\\u043e\\u0446\\u0438\\u0430\\u043b\\u044c\\u043d\\u043e-\\u043c\\u0435\\u0434\\u0438\\u0446\\u0438\\u043d\\u0441\\u043a\\u0438\\u0435\", \"type\": \"scatter\", \"x\": [\"2022-01-01T00:00:00\", \"2022-02-01T00:00:00\", \"2022-03-01T00:00:00\", \"2022-04-01T00:00:00\", \"2022-05-01T00:00:00\", \"2022-06-01T00:00:00\", \"2022-07-01T00:00:00\", \"2022-08-01T00:00:00\", \"2022-09-01T00:00:00\", \"2022-10-01T00:00:00\", \"2022-11-01T00:00:00\", \"2022-12-01T00:00:00\"], \"y\": [141732.1350000008, 133058.97450000068, 134680.7850000007, 136302.59550000072, 160629.75300000107, 143283.43200000082, 152309.16000000093, 138629.54100000075, 131296.1370000007, 138276.97350000078, 136655.16300000076, 153225.83550000095]}, {\"name\": \"\\u0421\\u043e\\u0446\\u0438\\u0430\\u043b\\u044c\\u043d\\u043e-\\u043f\\u0440\\u0430\\u0432\\u043e\\u0432\\u044b\\u0435\", \"type\": \"scatter\", \"x\": [\"2022-01-01T00:00:00\", \"2022-02-01T00:00:00\", \"2022-03-01T00:00:00\", \"2022-04-01T00:00:00\", \"2022-05-01T00:00:00\", \"2022-06-01T00:00:00\", \"2022-07-01T00:00:00\", \"2022-08-01T00:00:00\", \"2022-09-01T00:00:00\", \"2022-10-01T00:00:00\", \"2022-11-01T00:00:00\", \"2022-12-01T00:00:00\"], \"y\": [96328.01749999908, 149256.3474999987, 160983.9074999988, 162951.35999999888, 122097.78749999871, 105200.84249999897, 98025.42749999907, 104737.91249999897, 157087.5799999987, 165111.6999999988, 159479.38499999887, 135484.1799999986]}, {\"name\": \"\\u0421\\u043e\\u0446\\u0438\\u0430\\u043b\\u044c\\u043d\\u043e-\\u043f\\u0441\\u0438\\u0445\\u043e\\u043b\\u043e\\u0433\\u0438\\u0447\\u0435\\u0441\\u043a\\u0438\\u0435\", \"type\": \"scatter\", \"x\": [\"2022-01-01T00:00:00\", \"2022-02-01T00:00:00\", \"2022-03-01T00:00:00\", \"2022-04-01T00:00:00\", \"2022-05-01T00:00:00\", \"2022-06-01T00:00:00\", \"2022-07-01T00:00:00\", \"2022-08-01T00:00:00\", \"2022-09-01T00:00:00\", \"2022-10-01T00:00:00\", \"2022-11-01T00:00:00\", \"2022-12-01T00:00:00\"], \"y\": [72465.9650000002, 89344.97000000041, 96108.87000000052, 106070.25000000055, 78030.81000000025, 68499.86000000019, 75294.50500000024, 71943.30000000018, 94909.8150000005, 96754.5150000005, 98199.53000000054, 92634.68500000043]}, {\"name\": \"\\u0421\\u043e\\u0446\\u0438\\u0430\\u043b\\u044c\\u043d\\u043e-\\u044d\\u043a\\u043e\\u043d\\u043e\\u043c\\u0438\\u0447\\u0435\\u0441\\u043a\\u0438\\u0435\", \"type\": \"scatter\", \"x\": [\"2022-01-01T00:00:00\", \"2022-02-01T00:00:00\", \"2022-03-01T00:00:00\", \"2022-04-01T00:00:00\", \"2022-05-01T00:00:00\", \"2022-06-01T00:00:00\", \"2022-07-01T00:00:00\", \"2022-08-01T00:00:00\", \"2022-09-01T00:00:00\", \"2022-10-01T00:00:00\", \"2022-11-01T00:00:00\", \"2022-12-01T00:00:00\"], \"y\": [79453.44, 111497.47199999992, 111563.13599999975, 113730.04799999986, 91305.79199999997, 86413.8239999999, 83032.12799999997, 80602.56000000006, 104569.91999999987, 103617.7919999999, 110939.32799999989, 106244.35199999991]}],                        {\"template\": {\"data\": {\"bar\": [{\"error_x\": {\"color\": \"#2a3f5f\"}, \"error_y\": {\"color\": \"#2a3f5f\"}, \"marker\": {\"line\": {\"color\": \"#E5ECF6\", \"width\": 0.5}}, \"type\": \"bar\"}], \"barpolar\": [{\"marker\": {\"line\": {\"color\": \"#E5ECF6\", \"width\": 0.5}}, \"type\": \"barpolar\"}], \"carpet\": [{\"aaxis\": {\"endlinecolor\": \"#2a3f5f\", \"gridcolor\": \"white\", \"linecolor\": \"white\", \"minorgridcolor\": \"white\", \"startlinecolor\": \"#2a3f5f\"}, \"baxis\": {\"endlinecolor\": \"#2a3f5f\", \"gridcolor\": \"white\", \"linecolor\": \"white\", \"minorgridcolor\": \"white\", \"startlinecolor\": \"#2a3f5f\"}, \"type\": \"carpet\"}], \"choropleth\": [{\"colorbar\": {\"outlinewidth\": 0, \"ticks\": \"\"}, \"type\": \"choropleth\"}], \"contour\": [{\"colorbar\": {\"outlinewidth\": 0, \"ticks\": \"\"}, \"colorscale\": [[0.0, \"#0d0887\"], [0.1111111111111111, \"#46039f\"], [0.2222222222222222, \"#7201a8\"], [0.3333333333333333, \"#9c179e\"], [0.4444444444444444, \"#bd3786\"], [0.5555555555555556, \"#d8576b\"], [0.6666666666666666, \"#ed7953\"], [0.7777777777777778, \"#fb9f3a\"], [0.8888888888888888, \"#fdca26\"], [1.0, \"#f0f921\"]], \"type\": \"contour\"}], \"contourcarpet\": [{\"colorbar\": {\"outlinewidth\": 0, \"ticks\": \"\"}, \"type\": \"contourcarpet\"}], \"heatmap\": [{\"colorbar\": {\"outlinewidth\": 0, \"ticks\": \"\"}, \"colorscale\": [[0.0, \"#0d0887\"], [0.1111111111111111, \"#46039f\"], [0.2222222222222222, \"#7201a8\"], [0.3333333333333333, \"#9c179e\"], [0.4444444444444444, \"#bd3786\"], [0.5555555555555556, \"#d8576b\"], [0.6666666666666666, \"#ed7953\"], [0.7777777777777778, \"#fb9f3a\"], [0.8888888888888888, \"#fdca26\"], [1.0, \"#f0f921\"]], \"type\": \"heatmap\"}], \"heatmapgl\": [{\"colorbar\": {\"outlinewidth\": 0, \"ticks\": \"\"}, \"colorscale\": [[0.0, \"#0d0887\"], [0.1111111111111111, \"#46039f\"], [0.2222222222222222, \"#7201a8\"], [0.3333333333333333, \"#9c179e\"], [0.4444444444444444, \"#bd3786\"], [0.5555555555555556, \"#d8576b\"], [0.6666666666666666, \"#ed7953\"], [0.7777777777777778, \"#fb9f3a\"], [0.8888888888888888, \"#fdca26\"], [1.0, \"#f0f921\"]], \"type\": \"heatmapgl\"}], \"histogram\": [{\"marker\": {\"colorbar\": {\"outlinewidth\": 0, \"ticks\": \"\"}}, \"type\": \"histogram\"}], \"histogram2d\": [{\"colorbar\": {\"outlinewidth\": 0, \"ticks\": \"\"}, \"colorscale\": [[0.0, \"#0d0887\"], [0.1111111111111111, \"#46039f\"], [0.2222222222222222, \"#7201a8\"], [0.3333333333333333, \"#9c179e\"], [0.4444444444444444, \"#bd3786\"], [0.5555555555555556, \"#d8576b\"], [0.6666666666666666, \"#ed7953\"], [0.7777777777777778, \"#fb9f3a\"], [0.8888888888888888, \"#fdca26\"], [1.0, \"#f0f921\"]], \"type\": \"histogram2d\"}], \"histogram2dcontour\": [{\"colorbar\": {\"outlinewidth\": 0, \"ticks\": \"\"}, \"colorscale\": [[0.0, \"#0d0887\"], [0.1111111111111111, \"#46039f\"], [0.2222222222222222, \"#7201a8\"], [0.3333333333333333, \"#9c179e\"], [0.4444444444444444, \"#bd3786\"], [0.5555555555555556, \"#d8576b\"], [0.6666666666666666, \"#ed7953\"], [0.7777777777777778, \"#fb9f3a\"], [0.8888888888888888, \"#fdca26\"], [1.0, \"#f0f921\"]], \"type\": \"histogram2dcontour\"}], \"mesh3d\": [{\"colorbar\": {\"outlinewidth\": 0, \"ticks\": \"\"}, \"type\": \"mesh3d\"}], \"parcoords\": [{\"line\": {\"colorbar\": {\"outlinewidth\": 0, \"ticks\": \"\"}}, \"type\": \"parcoords\"}], \"pie\": [{\"automargin\": true, \"type\": \"pie\"}], \"scatter\": [{\"marker\": {\"colorbar\": {\"outlinewidth\": 0, \"ticks\": \"\"}}, \"type\": \"scatter\"}], \"scatter3d\": [{\"line\": {\"colorbar\": {\"outlinewidth\": 0, \"ticks\": \"\"}}, \"marker\": {\"colorbar\": {\"outlinewidth\": 0, \"ticks\": \"\"}}, \"type\": \"scatter3d\"}], \"scattercarpet\": [{\"marker\": {\"colorbar\": {\"outlinewidth\": 0, \"ticks\": \"\"}}, \"type\": \"scattercarpet\"}], \"scattergeo\": [{\"marker\": {\"colorbar\": {\"outlinewidth\": 0, \"ticks\": \"\"}}, \"type\": \"scattergeo\"}], \"scattergl\": [{\"marker\": {\"colorbar\": {\"outlinewidth\": 0, \"ticks\": \"\"}}, \"type\": \"scattergl\"}], \"scattermapbox\": [{\"marker\": {\"colorbar\": {\"outlinewidth\": 0, \"ticks\": \"\"}}, \"type\": \"scattermapbox\"}], \"scatterpolar\": [{\"marker\": {\"colorbar\": {\"outlinewidth\": 0, \"ticks\": \"\"}}, \"type\": \"scatterpolar\"}], \"scatterpolargl\": [{\"marker\": {\"colorbar\": {\"outlinewidth\": 0, \"ticks\": \"\"}}, \"type\": \"scatterpolargl\"}], \"scatterternary\": [{\"marker\": {\"colorbar\": {\"outlinewidth\": 0, \"ticks\": \"\"}}, \"type\": \"scatterternary\"}], \"surface\": [{\"colorbar\": {\"outlinewidth\": 0, \"ticks\": \"\"}, \"colorscale\": [[0.0, \"#0d0887\"], [0.1111111111111111, \"#46039f\"], [0.2222222222222222, \"#7201a8\"], [0.3333333333333333, \"#9c179e\"], [0.4444444444444444, \"#bd3786\"], [0.5555555555555556, \"#d8576b\"], [0.6666666666666666, \"#ed7953\"], [0.7777777777777778, \"#fb9f3a\"], [0.8888888888888888, \"#fdca26\"], [1.0, \"#f0f921\"]], \"type\": \"surface\"}], \"table\": [{\"cells\": {\"fill\": {\"color\": \"#EBF0F8\"}, \"line\": {\"color\": \"white\"}}, \"header\": {\"fill\": {\"color\": \"#C8D4E3\"}, \"line\": {\"color\": \"white\"}}, \"type\": \"table\"}]}, \"layout\": {\"annotationdefaults\": {\"arrowcolor\": \"#2a3f5f\", \"arrowhead\": 0, \"arrowwidth\": 1}, \"autotypenumbers\": \"strict\", \"coloraxis\": {\"colorbar\": {\"outlinewidth\": 0, \"ticks\": \"\"}}, \"colorscale\": {\"diverging\": [[0, \"#8e0152\"], [0.1, \"#c51b7d\"], [0.2, \"#de77ae\"], [0.3, \"#f1b6da\"], [0.4, \"#fde0ef\"], [0.5, \"#f7f7f7\"], [0.6, \"#e6f5d0\"], [0.7, \"#b8e186\"], [0.8, \"#7fbc41\"], [0.9, \"#4d9221\"], [1, \"#276419\"]], \"sequential\": [[0.0, \"#0d0887\"], [0.1111111111111111, \"#46039f\"], [0.2222222222222222, \"#7201a8\"], [0.3333333333333333, \"#9c179e\"], [0.4444444444444444, \"#bd3786\"], [0.5555555555555556, \"#d8576b\"], [0.6666666666666666, \"#ed7953\"], [0.7777777777777778, \"#fb9f3a\"], [0.8888888888888888, \"#fdca26\"], [1.0, \"#f0f921\"]], \"sequentialminus\": [[0.0, \"#0d0887\"], [0.1111111111111111, \"#46039f\"], [0.2222222222222222, \"#7201a8\"], [0.3333333333333333, \"#9c179e\"], [0.4444444444444444, \"#bd3786\"], [0.5555555555555556, \"#d8576b\"], [0.6666666666666666, \"#ed7953\"], [0.7777777777777778, \"#fb9f3a\"], [0.8888888888888888, \"#fdca26\"], [1.0, \"#f0f921\"]]}, \"colorway\": [\"#636efa\", \"#EF553B\", \"#00cc96\", \"#ab63fa\", \"#FFA15A\", \"#19d3f3\", \"#FF6692\", \"#B6E880\", \"#FF97FF\", \"#FECB52\"], \"font\": {\"color\": \"#2a3f5f\"}, \"geo\": {\"bgcolor\": \"white\", \"lakecolor\": \"white\", \"landcolor\": \"#E5ECF6\", \"showlakes\": true, \"showland\": true, \"subunitcolor\": \"white\"}, \"hoverlabel\": {\"align\": \"left\"}, \"hovermode\": \"closest\", \"mapbox\": {\"style\": \"light\"}, \"paper_bgcolor\": \"white\", \"plot_bgcolor\": \"#E5ECF6\", \"polar\": {\"angularaxis\": {\"gridcolor\": \"white\", \"linecolor\": \"white\", \"ticks\": \"\"}, \"bgcolor\": \"#E5ECF6\", \"radialaxis\": {\"gridcolor\": \"white\", \"linecolor\": \"white\", \"ticks\": \"\"}}, \"scene\": {\"xaxis\": {\"backgroundcolor\": \"#E5ECF6\", \"gridcolor\": \"white\", \"gridwidth\": 2, \"linecolor\": \"white\", \"showbackground\": true, \"ticks\": \"\", \"zerolinecolor\": \"white\"}, \"yaxis\": {\"backgroundcolor\": \"#E5ECF6\", \"gridcolor\": \"white\", \"gridwidth\": 2, \"linecolor\": \"white\", \"showbackground\": true, \"ticks\": \"\", \"zerolinecolor\": \"white\"}, \"zaxis\": {\"backgroundcolor\": \"#E5ECF6\", \"gridcolor\": \"white\", \"gridwidth\": 2, \"linecolor\": \"white\", \"showbackground\": true, \"ticks\": \"\", \"zerolinecolor\": \"white\"}}, \"shapedefaults\": {\"line\": {\"color\": \"#2a3f5f\"}}, \"ternary\": {\"aaxis\": {\"gridcolor\": \"white\", \"linecolor\": \"white\", \"ticks\": \"\"}, \"baxis\": {\"gridcolor\": \"white\", \"linecolor\": \"white\", \"ticks\": \"\"}, \"bgcolor\": \"#E5ECF6\", \"caxis\": {\"gridcolor\": \"white\", \"linecolor\": \"white\", \"ticks\": \"\"}}, \"title\": {\"x\": 0.05}, \"xaxis\": {\"automargin\": true, \"gridcolor\": \"white\", \"linecolor\": \"white\", \"ticks\": \"\", \"title\": {\"standoff\": 15}, \"zerolinecolor\": \"white\", \"zerolinewidth\": 2}, \"yaxis\": {\"automargin\": true, \"gridcolor\": \"white\", \"linecolor\": \"white\", \"ticks\": \"\", \"title\": {\"standoff\": 15}, \"zerolinecolor\": \"white\", \"zerolinewidth\": 2}}}, \"title\": {\"text\": \"\"}},                        {\"responsive\": true}                    ).then(function(){\n",
       "                            \n",
       "var gd = document.getElementById('c074475d-21dd-4155-b455-a13633786d29');\n",
       "var x = new MutationObserver(function (mutations, observer) {{\n",
       "        var display = window.getComputedStyle(gd).display;\n",
       "        if (!display || display === 'none') {{\n",
       "            console.log([gd, 'removed!']);\n",
       "            Plotly.purge(gd);\n",
       "            observer.disconnect();\n",
       "        }}\n",
       "}});\n",
       "\n",
       "// Listen for the removal of the full notebook cells\n",
       "var notebookContainer = gd.closest('#notebook-container');\n",
       "if (notebookContainer) {{\n",
       "    x.observe(notebookContainer, {childList: true});\n",
       "}}\n",
       "\n",
       "// Listen for the clearing of the current output cell\n",
       "var outputEl = gd.closest('.output');\n",
       "if (outputEl) {{\n",
       "    x.observe(outputEl, {childList: true});\n",
       "}}\n",
       "\n",
       "                        })                };                });            </script>        </div>"
      ]
     },
     "metadata": {},
     "output_type": "display_data"
    }
   ],
   "source": [
    "# Создадим таблицу сгруппированную по названию и месяцу оказания услуги\n",
    "profit_service = data.groupby(['service_name', 'month'], as_index = False).agg({'profit':'sum'})\n",
    "\n",
    "# Посмотрим результат\n",
    "trace = []\n",
    "\n",
    "for i in profit_service.service_name.unique():\n",
    "    df_profit = profit_service.loc[profit_service['service_name'] == i]\n",
    "    trace_loc = go.Scatter(x = df_profit['month'], y = df_profit['profit'], name = i)\n",
    "    trace.append(trace_loc)\n",
    "    fig = go.Figure(data = trace, layout = go.Layout(title = ''))\n",
    "iplot(fig)"
   ]
  },
  {
   "cell_type": "markdown",
   "metadata": {},
   "source": [
    "**Вывод:**\n",
    "\n",
    "На графике видны те же самые всплески социально-правовых, социально-экономических и социально-психологических услуг. Однако, видно что все услуги кроме социально-медицинских и социально-бытовых имеют существенную просадку летом. При условии, что предпочтения услуг в каждой организации идентичны, то благодаря социально-медицинским и социально-бытовым услугам (которые также являются самыми маржинальными), мы частично покрываем потери по оставшимся услугам."
   ]
  },
  {
   "cell_type": "markdown",
   "metadata": {},
   "source": [
    "## Общий вывод"
   ]
  },
  {
   "cell_type": "markdown",
   "metadata": {
    "collapsed": true
   },
   "source": [
    "**Стояла следующая задача:**\n",
    "\n",
    "Провести сравнительный анализ социальных организаций с целью выявления узких мест и потенциальных точек роста эффективности.\n",
    "\n",
    "**Целевая метрика - прибыль организации.**\n",
    "\n",
    "** Для увеличения целевой метрики - прибыли, необходимо добиться:**\n",
    "- увеличения количества клиентов;\n",
    "- увеличения среднего количества полученных услуг на клиента;\n",
    "- увеличения средней прибыли с клиента.\n",
    "\n",
    "**1. В рамках исследования социальных организаций выявлены следующие особенности в данных:**\n",
    "- В 2022 году было 2 явных всплеска количества клиентов и количества предоставленных услуг - с февраля по апрель и с сентября по ноябрь. Первый всплеск связан с началом СВО, а второй с началом мобилизации. В эти периоды произошел резкий рост количества оказанных социально-правовых, социально-экономических и социально-психологических услуг, что закономерно, т.к. многие люди начали обращаться за помощью к юристам, пытаться получить различные материальные выплаты, а также психологическую помощь.\n",
    "- Летом 2022 года произошло сезонное снижение количества клиентов и предоставленных услуг - с мая по сентябрь. Это связано с началом дачного сезона и сезона отпусков.\n",
    "- Фактор сезонности или всплески, которые наблюдались весной и осенью не оказали существенного влияния на количество предоставленных социально-медицинских и социально-бытовых услуг. Это связано с тем, что данные типы услуг предоставляются чаще всего на дому людям, испытывающим проблемы с самостоятельным передвижением, ориентированием в пространстве и получением услуг (как правило, маломобильные).\n",
    "- Отсутствуют различия в предпочтениях клиентов тех или иных услуг между организациями. Клиенты независимо от организации, как правило, обращаются за базовыми услугами - решение правовых и юридических вопросов, психологическая поддержка в трудной жизненной ситуации и тд.\n",
    "\n",
    "**2. По результатам сравнительного анализа социальных организаций были подготовлены следующие рекомендации:**\n",
    "1. `Социальной организации №1` необходимо **увеличить среднее количество предоставляемых услуг на клиента** за счет предоставления большего количества услуг существующей клиентской базе. Добиться **увеличения средней прибыли с клиента** за счет дополнительного предоставления клиентам более маржинальных услуг, таких как `социально-медицинских`, `социально-бытовых` и `социально-правовых`.\n",
    "2. `Социальной организации №2` необходимо **увеличить количество клиентов** за счет адресной работы с населением района, в том числе с помощью холодных звонков. Добиться **увеличения средней прибыли с клиента** за счет дополнительного предоставления клиентам более маржинальных услуг, таких как `социально-медицинских`, `социально-бытовых` и `социально-правовых`.\n",
    "3. `Социальной организации №3` необходимо **увеличить количество клиентов** за счет адресной работы с населением района, в том числе с помощью холодных звонков. Добиться **увеличения среднего количества предоставляемых услуг на клиента** за счет предоставления большего количества услуг существующей клиентской базе, а также новым клиентам.\n",
    "4. `Социальной организации №4` необходимо **увеличить количество клиентов** за счет адресной работы с населением района, в том числе с помощью холодных звонков. Добиться **увеличения среднего количества предоставляемых услуг на клиента** за счет предоставления большего количества услуг существующей клиентской базе, а также новым клиентам.\n",
    "5. `Социальная организация №5` входит в топ 2 основных показателей. В целом, необходимо продолжать **осуществлять свою деятельность на том же уровне**.\n",
    "6. `Социальной организации №6` необходимо **увеличить количество клиентов** за счет адресной работы с населением района, в том числе с помощью холодных звонков. Добиться **увеличения среднего количества предоставляемых услуг на клиента** за счет предоставления большего количества услуг существующей клиентской базе, а также новым клиентам. Также **увеличить среднюю прибыль с клиента** за счет дополнительного предоставления более маржинальных услуг, таких как `социально-медицинских`, `социально-бытовых` и `социально-правовых`."
   ]
  }
 ],
 "metadata": {
  "hide_input": false,
  "kernelspec": {
   "display_name": "Python 3",
   "language": "python",
   "name": "python3"
  },
  "language_info": {
   "codemirror_mode": {
    "name": "ipython",
    "version": 3
   },
   "file_extension": ".py",
   "mimetype": "text/x-python",
   "name": "python",
   "nbconvert_exporter": "python",
   "pygments_lexer": "ipython3",
   "version": "3.6.3"
  },
  "toc": {
   "base_numbering": 1,
   "nav_menu": {},
   "number_sections": true,
   "sideBar": true,
   "skip_h1_title": false,
   "title_cell": "Table of Contents",
   "title_sidebar": "Contents",
   "toc_cell": false,
   "toc_position": {},
   "toc_section_display": true,
   "toc_window_display": true
  }
 },
 "nbformat": 4,
 "nbformat_minor": 2
}
